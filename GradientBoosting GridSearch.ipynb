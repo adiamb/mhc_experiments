{
 "cells": [
  {
   "cell_type": "code",
   "execution_count": 1,
   "metadata": {
    "collapsed": false
   },
   "outputs": [
    {
     "name": "stderr",
     "output_type": "stream",
     "text": [
      "Using Theano backend.\n"
     ]
    }
   ],
   "source": [
    "import pandas as pd\n",
    "import sklearn \n",
    "import scipy\n",
    "from sklearn import linear_model as lm\n",
    "from sklearn.linear_model import LinearRegression\n",
    "from sklearn.cross_validation import KFold, train_test_split, cross_val_score, StratifiedKFold, LabelKFold, ShuffleSplit\n",
    "from sklearn.metrics import roc_auc_score\n",
    "from sklearn.preprocessing import StandardScaler\n",
    "from sklearn.decomposition import PCA\n",
    "from sklearn.svm import SVR\n",
    "from mhcflurry.amino_acid import common_amino_acids\n",
    "from sklearn.ensemble import GradientBoostingRegressor\n",
    "from sklearn.grid_search import GridSearchCV\n",
    "import matplotlib.pyplot as plt \n",
    "% matplotlib inline\n",
    "import numpy as np\n",
    "import math \n",
    "from mhcflurry import peptide_encoding, amino_acid\n",
    "import statsmodels.api as sm"
   ]
  },
  {
   "cell_type": "markdown",
   "metadata": {},
   "source": [
    "### preparing the data"
   ]
  },
  {
   "cell_type": "code",
   "execution_count": 2,
   "metadata": {
    "collapsed": false
   },
   "outputs": [],
   "source": [
    "df = pd.read_table(\"bdata.2009.mhci.public.1.txt\")\n",
    "df['log_meas']=1-np.log(df['meas'])/math.log(50000)\n",
    "df['peptide_length'] = df['sequence'].str.len()"
   ]
  },
  {
   "cell_type": "code",
   "execution_count": 38,
   "metadata": {
    "collapsed": true
   },
   "outputs": [],
   "source": [
    "max_len=df['sequence'].str.len().max()\n",
    "n_peptides = df['sequence'].count()\n",
    "def amino_acid_encoding(s):\n",
    "    return common_amino_acids.hotshot_encoding([s],len(s)).flatten().astype(int)\n",
    "df['encoded_peptides'] = df.sequence.apply(lambda seq: amino_acid_encoding(seq))"
   ]
  },
  {
   "cell_type": "code",
   "execution_count": 39,
   "metadata": {
    "collapsed": true
   },
   "outputs": [],
   "source": [
    "def measured_affinity_less_than(Y,k):\n",
    "    IC50 = 50000**(1-Y)\n",
    "    return (IC50 < k).astype(int) \n",
    "def affinity_label(Y):\n",
    "    return measured_affinity_less_than(Y,50) + measured_affinity_less_than(Y,500) + measured_affinity_less_than(Y,5000) + measured_affinity_less_than(Y,50000)"
   ]
  },
  {
   "cell_type": "code",
   "execution_count": 40,
   "metadata": {
    "collapsed": false
   },
   "outputs": [
    {
     "data": {
      "text/html": [
       "<div>\n",
       "<table border=\"1\" class=\"dataframe\">\n",
       "  <thead>\n",
       "    <tr style=\"text-align: right;\">\n",
       "      <th></th>\n",
       "      <th>species</th>\n",
       "      <th>mhc</th>\n",
       "      <th>peptide_length</th>\n",
       "      <th>cv</th>\n",
       "      <th>sequence</th>\n",
       "      <th>inequality</th>\n",
       "      <th>meas</th>\n",
       "      <th>log_meas</th>\n",
       "      <th>encoded_peptides</th>\n",
       "      <th>affinity_label</th>\n",
       "    </tr>\n",
       "  </thead>\n",
       "  <tbody>\n",
       "    <tr>\n",
       "      <th>0</th>\n",
       "      <td>None</td>\n",
       "      <td>ELA-A1</td>\n",
       "      <td>12</td>\n",
       "      <td>TBD</td>\n",
       "      <td>GSQKLTTGNCNW</td>\n",
       "      <td>=</td>\n",
       "      <td>605.0</td>\n",
       "      <td>0.408007</td>\n",
       "      <td>[0, 0, 0, 0, 0, 1, 0, 0, 0, 0, 0, 0, 0, 0, 0, ...</td>\n",
       "      <td>2</td>\n",
       "    </tr>\n",
       "    <tr>\n",
       "      <th>1</th>\n",
       "      <td>None</td>\n",
       "      <td>ELA-A1</td>\n",
       "      <td>12</td>\n",
       "      <td>TBD</td>\n",
       "      <td>HVKDETNTTEYW</td>\n",
       "      <td>=</td>\n",
       "      <td>880.0</td>\n",
       "      <td>0.373377</td>\n",
       "      <td>[0, 0, 0, 0, 0, 0, 1, 0, 0, 0, 0, 0, 0, 0, 0, ...</td>\n",
       "      <td>2</td>\n",
       "    </tr>\n",
       "    <tr>\n",
       "      <th>2</th>\n",
       "      <td>None</td>\n",
       "      <td>ELA-A1</td>\n",
       "      <td>12</td>\n",
       "      <td>TBD</td>\n",
       "      <td>LVEDVTNTAEYW</td>\n",
       "      <td>=</td>\n",
       "      <td>170.0</td>\n",
       "      <td>0.525332</td>\n",
       "      <td>[0, 0, 0, 0, 0, 0, 0, 0, 0, 1, 0, 0, 0, 0, 0, ...</td>\n",
       "      <td>3</td>\n",
       "    </tr>\n",
       "    <tr>\n",
       "      <th>3</th>\n",
       "      <td>None</td>\n",
       "      <td>ELA-A1</td>\n",
       "      <td>12</td>\n",
       "      <td>TBD</td>\n",
       "      <td>RVEDKTNTAEYW</td>\n",
       "      <td>=</td>\n",
       "      <td>70.0</td>\n",
       "      <td>0.607340</td>\n",
       "      <td>[0, 0, 0, 0, 0, 0, 0, 0, 0, 0, 0, 0, 0, 0, 1, ...</td>\n",
       "      <td>3</td>\n",
       "    </tr>\n",
       "    <tr>\n",
       "      <th>4</th>\n",
       "      <td>None</td>\n",
       "      <td>ELA-A1</td>\n",
       "      <td>12</td>\n",
       "      <td>TBD</td>\n",
       "      <td>RVEDVKNTAEYW</td>\n",
       "      <td>=</td>\n",
       "      <td>65.0</td>\n",
       "      <td>0.614189</td>\n",
       "      <td>[0, 0, 0, 0, 0, 0, 0, 0, 0, 0, 0, 0, 0, 0, 1, ...</td>\n",
       "      <td>3</td>\n",
       "    </tr>\n",
       "    <tr>\n",
       "      <th>5</th>\n",
       "      <td>None</td>\n",
       "      <td>ELA-A1</td>\n",
       "      <td>12</td>\n",
       "      <td>TBD</td>\n",
       "      <td>RVEDVTLTAEYW</td>\n",
       "      <td>=</td>\n",
       "      <td>150.0</td>\n",
       "      <td>0.536900</td>\n",
       "      <td>[0, 0, 0, 0, 0, 0, 0, 0, 0, 0, 0, 0, 0, 0, 1, ...</td>\n",
       "      <td>3</td>\n",
       "    </tr>\n",
       "    <tr>\n",
       "      <th>6</th>\n",
       "      <td>None</td>\n",
       "      <td>ELA-A1</td>\n",
       "      <td>12</td>\n",
       "      <td>TBD</td>\n",
       "      <td>RVEDVTNKAEYW</td>\n",
       "      <td>=</td>\n",
       "      <td>80.0</td>\n",
       "      <td>0.594998</td>\n",
       "      <td>[0, 0, 0, 0, 0, 0, 0, 0, 0, 0, 0, 0, 0, 0, 1, ...</td>\n",
       "      <td>3</td>\n",
       "    </tr>\n",
       "    <tr>\n",
       "      <th>7</th>\n",
       "      <td>None</td>\n",
       "      <td>ELA-A1</td>\n",
       "      <td>12</td>\n",
       "      <td>TBD</td>\n",
       "      <td>RVEDVTNTAELW</td>\n",
       "      <td>=</td>\n",
       "      <td>25.0</td>\n",
       "      <td>0.702501</td>\n",
       "      <td>[0, 0, 0, 0, 0, 0, 0, 0, 0, 0, 0, 0, 0, 0, 1, ...</td>\n",
       "      <td>4</td>\n",
       "    </tr>\n",
       "    <tr>\n",
       "      <th>8</th>\n",
       "      <td>None</td>\n",
       "      <td>ELA-A1</td>\n",
       "      <td>12</td>\n",
       "      <td>TBD</td>\n",
       "      <td>RVEDVTNTAEYL</td>\n",
       "      <td>=</td>\n",
       "      <td>97.0</td>\n",
       "      <td>0.577190</td>\n",
       "      <td>[0, 0, 0, 0, 0, 0, 0, 0, 0, 0, 0, 0, 0, 0, 1, ...</td>\n",
       "      <td>3</td>\n",
       "    </tr>\n",
       "    <tr>\n",
       "      <th>9</th>\n",
       "      <td>None</td>\n",
       "      <td>ELA-A1</td>\n",
       "      <td>12</td>\n",
       "      <td>TBD</td>\n",
       "      <td>RVEDVTNTAEYW</td>\n",
       "      <td>=</td>\n",
       "      <td>39.0</td>\n",
       "      <td>0.661401</td>\n",
       "      <td>[0, 0, 0, 0, 0, 0, 0, 0, 0, 0, 0, 0, 0, 0, 1, ...</td>\n",
       "      <td>4</td>\n",
       "    </tr>\n",
       "  </tbody>\n",
       "</table>\n",
       "</div>"
      ],
      "text/plain": [
       "  species     mhc  peptide_length   cv      sequence inequality   meas  \\\n",
       "0    None  ELA-A1              12  TBD  GSQKLTTGNCNW          =  605.0   \n",
       "1    None  ELA-A1              12  TBD  HVKDETNTTEYW          =  880.0   \n",
       "2    None  ELA-A1              12  TBD  LVEDVTNTAEYW          =  170.0   \n",
       "3    None  ELA-A1              12  TBD  RVEDKTNTAEYW          =   70.0   \n",
       "4    None  ELA-A1              12  TBD  RVEDVKNTAEYW          =   65.0   \n",
       "5    None  ELA-A1              12  TBD  RVEDVTLTAEYW          =  150.0   \n",
       "6    None  ELA-A1              12  TBD  RVEDVTNKAEYW          =   80.0   \n",
       "7    None  ELA-A1              12  TBD  RVEDVTNTAELW          =   25.0   \n",
       "8    None  ELA-A1              12  TBD  RVEDVTNTAEYL          =   97.0   \n",
       "9    None  ELA-A1              12  TBD  RVEDVTNTAEYW          =   39.0   \n",
       "\n",
       "   log_meas                                   encoded_peptides  affinity_label  \n",
       "0  0.408007  [0, 0, 0, 0, 0, 1, 0, 0, 0, 0, 0, 0, 0, 0, 0, ...               2  \n",
       "1  0.373377  [0, 0, 0, 0, 0, 0, 1, 0, 0, 0, 0, 0, 0, 0, 0, ...               2  \n",
       "2  0.525332  [0, 0, 0, 0, 0, 0, 0, 0, 0, 1, 0, 0, 0, 0, 0, ...               3  \n",
       "3  0.607340  [0, 0, 0, 0, 0, 0, 0, 0, 0, 0, 0, 0, 0, 0, 1, ...               3  \n",
       "4  0.614189  [0, 0, 0, 0, 0, 0, 0, 0, 0, 0, 0, 0, 0, 0, 1, ...               3  \n",
       "5  0.536900  [0, 0, 0, 0, 0, 0, 0, 0, 0, 0, 0, 0, 0, 0, 1, ...               3  \n",
       "6  0.594998  [0, 0, 0, 0, 0, 0, 0, 0, 0, 0, 0, 0, 0, 0, 1, ...               3  \n",
       "7  0.702501  [0, 0, 0, 0, 0, 0, 0, 0, 0, 0, 0, 0, 0, 0, 1, ...               4  \n",
       "8  0.577190  [0, 0, 0, 0, 0, 0, 0, 0, 0, 0, 0, 0, 0, 0, 1, ...               3  \n",
       "9  0.661401  [0, 0, 0, 0, 0, 0, 0, 0, 0, 0, 0, 0, 0, 0, 1, ...               4  "
      ]
     },
     "execution_count": 40,
     "metadata": {},
     "output_type": "execute_result"
    }
   ],
   "source": [
    "df['affinity_label'] = affinity_label(df['log_meas'])\n",
    "df.head(10)"
   ]
  },
  {
   "cell_type": "code",
   "execution_count": 41,
   "metadata": {
    "collapsed": false
   },
   "outputs": [
    {
     "data": {
      "text/plain": [
       "mhc\n",
       "HLA-A-0201    9565\n",
       "HLA-A-0301    6141\n",
       "HLA-A-0203    5542\n",
       "HLA-A-1101    5399\n",
       "HLA-A-0206    4827\n",
       "HLA-A-3101    4796\n",
       "HLA-A-6802    4768\n",
       "HLA-A-0202    3919\n",
       "HLA-A-0101    3725\n",
       "HLA-B-0702    3412\n",
       "H-2-Kb        3407\n",
       "dtype: int64"
      ]
     },
     "execution_count": 41,
     "metadata": {},
     "output_type": "execute_result"
    }
   ],
   "source": [
    "df.groupby('mhc').size().nlargest(11)"
   ]
  },
  {
   "cell_type": "markdown",
   "metadata": {},
   "source": [
    "### only retaining 9 mers"
   ]
  },
  {
   "cell_type": "code",
   "execution_count": 42,
   "metadata": {
    "collapsed": false,
    "scrolled": true
   },
   "outputs": [
    {
     "data": {
      "text/plain": [
       "mhc\n",
       "HLA-A-0201    6961\n",
       "HLA-A-0301    4601\n",
       "HLA-A-0203    3937\n",
       "HLA-A-1101    3862\n",
       "HLA-A-3101    3309\n",
       "HLA-A-0206    3223\n",
       "HLA-A-6802    3188\n",
       "HLA-A-0101    3169\n",
       "HLA-B-1501    3142\n",
       "HLA-B-0702    2974\n",
       "HLA-B-5801    2444\n",
       "dtype: int64"
      ]
     },
     "execution_count": 42,
     "metadata": {},
     "output_type": "execute_result"
    }
   ],
   "source": [
    "df_9 = df[df['peptide_length']==9]\n",
    "df_9 = df_9.reindex(np.random.permutation(df_9.index))\n",
    "df_9.groupby('mhc').size().nlargest(11)"
   ]
  },
  {
   "cell_type": "markdown",
   "metadata": {},
   "source": [
    "# AUC scores"
   ]
  },
  {
   "cell_type": "code",
   "execution_count": 43,
   "metadata": {
    "collapsed": true
   },
   "outputs": [],
   "source": [
    "def auc_scorer(estimator, X, y):\n",
    "    return sklearn.metrics.roc_auc_score(measured_affinity_less_than(y,500),estimator.predict(X))"
   ]
  },
  {
   "cell_type": "markdown",
   "metadata": {},
   "source": [
    "## HLA-A-0201"
   ]
  },
  {
   "cell_type": "code",
   "execution_count": 50,
   "metadata": {
    "collapsed": false
   },
   "outputs": [],
   "source": [
    "df_h = df_9[df_9['mhc']=='HLA-A-0201'][['encoded_peptides','log_meas']]\n",
    "X = pd.DataFrame(list(df_h['encoded_peptides'])).values\n",
    "y = pd.DataFrame(list(df_h['log_meas'])).values\n",
    "X_train, X_test, y_train, y_test = train_test_split(X,y,random_state=0)"
   ]
  },
  {
   "cell_type": "code",
   "execution_count": 51,
   "metadata": {
    "collapsed": false
   },
   "outputs": [
    {
     "name": "stdout",
     "output_type": "stream",
     "text": [
      "test set score: 0.95366\n",
      "Best cross-validation score: 0.94863\n",
      "Best parameters:  {'n_estimators': 330, 'max_depth': 2, 'learning_rate': 0.327}\n"
     ]
    },
    {
     "name": "stderr",
     "output_type": "stream",
     "text": [
      "/Users/giancarlokerg/anaconda/lib/python3.5/site-packages/sklearn/grid_search.py:418: ChangedBehaviorWarning: The long-standing behavior to use the estimator's score function in GridSearchCV.score has changed. The scoring parameter is now used.\n",
      "  ChangedBehaviorWarning)\n"
     ]
    }
   ],
   "source": [
    "param_grid = {'n_estimators': [330, 331,332], 'max_depth': [1,2,3], 'learning_rate': [0.327, 0.328, 0.329]}\n",
    "grid_search = GridSearchCV(GradientBoostingRegressor(),param_grid,cv=5, scoring = auc_scorer)\n",
    "grid_search.fit(X_train,y_train[:,0])\n",
    "print(\"test set score: %.5f\" % grid_search.score(X_test,y_test[:,0]))\n",
    "print(\"Best cross-validation score: %.5f\" %grid_search.best_score_)\n",
    "# the latter attributes the mean cross-validation score\n",
    "print(\"Best parameters: \", grid_search.best_params_)"
   ]
  },
  {
   "cell_type": "markdown",
   "metadata": {},
   "source": [
    "## HLA-A-0301"
   ]
  },
  {
   "cell_type": "code",
   "execution_count": 12,
   "metadata": {
    "collapsed": false
   },
   "outputs": [],
   "source": [
    "df_h = df_9[df_9['mhc']=='HLA-A-0301'][['encoded_peptides','log_meas']]\n",
    "X = pd.DataFrame(list(df_h['encoded_peptides'])).values\n",
    "y = pd.DataFrame(list(df_h['log_meas'])).values\n",
    "X_train, X_test, y_train, y_test = train_test_split(X,y,random_state=1)"
   ]
  },
  {
   "cell_type": "code",
   "execution_count": 20,
   "metadata": {
    "collapsed": false
   },
   "outputs": [
    {
     "name": "stdout",
     "output_type": "stream",
     "text": [
      "test set score: 0.93059\n",
      "Best cross-validation score: 0.91897\n",
      "Best parameters:  {'n_estimators': 324, 'max_depth': 2, 'learning_rate': 0.327}\n"
     ]
    },
    {
     "name": "stderr",
     "output_type": "stream",
     "text": [
      "/Users/giancarlokerg/anaconda/lib/python3.5/site-packages/sklearn/grid_search.py:418: ChangedBehaviorWarning: The long-standing behavior to use the estimator's score function in GridSearchCV.score has changed. The scoring parameter is now used.\n",
      "  ChangedBehaviorWarning)\n"
     ]
    }
   ],
   "source": [
    "param_grid = {'n_estimators': [323,324,325], 'max_depth': [1,2,3], 'learning_rate': [0.326, 0.327, 0.328]}\n",
    "grid_search = GridSearchCV(GradientBoostingRegressor(),param_grid,cv=5, scoring = auc_scorer)\n",
    "grid_search.fit(X_train,y_train[:,0])\n",
    "print(\"test set score: %.5f\" % grid_search.score(X_test,y_test[:,0]))\n",
    "print(\"Best cross-validation score: %.5f\" %grid_search.best_score_)\n",
    "# the latter attributes the mean cross-validation score\n",
    "print(\"Best parameters: \", grid_search.best_params_)"
   ]
  },
  {
   "cell_type": "markdown",
   "metadata": {},
   "source": [
    "## HLA-A-0203"
   ]
  },
  {
   "cell_type": "code",
   "execution_count": 48,
   "metadata": {
    "collapsed": true
   },
   "outputs": [],
   "source": [
    "df_h = df_9[df_9['mhc']=='HLA-A-0203'][['encoded_peptides','log_meas']]\n",
    "X = pd.DataFrame(list(df_h['encoded_peptides'])).values\n",
    "y = pd.DataFrame(list(df_h['log_meas'])).values\n",
    "X_train, X_test, y_train, y_test = train_test_split(X,y,random_state=1)"
   ]
  },
  {
   "cell_type": "code",
   "execution_count": 49,
   "metadata": {
    "collapsed": false
   },
   "outputs": [
    {
     "name": "stdout",
     "output_type": "stream",
     "text": [
      "test set score: 0.94103\n",
      "Best cross-validation score: 0.93422\n",
      "Best parameters:  {'n_estimators': 334, 'max_depth': 1, 'learning_rate': 0.329}\n"
     ]
    },
    {
     "name": "stderr",
     "output_type": "stream",
     "text": [
      "/Users/giancarlokerg/anaconda/lib/python3.5/site-packages/sklearn/grid_search.py:418: ChangedBehaviorWarning: The long-standing behavior to use the estimator's score function in GridSearchCV.score has changed. The scoring parameter is now used.\n",
      "  ChangedBehaviorWarning)\n"
     ]
    }
   ],
   "source": [
    "param_grid = {'n_estimators': [333,334,335], 'max_depth': [1,2,3], 'learning_rate': [0.327, 0.328, 0.329]}\n",
    "grid_search = GridSearchCV(GradientBoostingRegressor(),param_grid,cv=5, scoring = auc_scorer) \n",
    "grid_search.fit(X_train,y_train[:,0])\n",
    "print(\"test set score: %.5f\" % grid_search.score(X_test,y_test[:,0]))\n",
    "print(\"Best cross-validation score: %.5f\" %grid_search.best_score_)\n",
    "# the latter attributes the mean cross-validation score\n",
    "print(\"Best parameters: \", grid_search.best_params_)"
   ]
  },
  {
   "cell_type": "markdown",
   "metadata": {},
   "source": [
    "## HLA-A-1101"
   ]
  },
  {
   "cell_type": "code",
   "execution_count": 36,
   "metadata": {
    "collapsed": true
   },
   "outputs": [],
   "source": [
    "df_h = df_9[df_9['mhc']=='HLA-A-1101'][['encoded_peptides','log_meas']]\n",
    "X = pd.DataFrame(list(df_h['encoded_peptides'])).values\n",
    "y = pd.DataFrame(list(df_h['log_meas'])).values\n",
    "X_train, X_test, y_train, y_test = train_test_split(X,y,random_state=1)"
   ]
  },
  {
   "cell_type": "code",
   "execution_count": 37,
   "metadata": {
    "collapsed": false
   },
   "outputs": [
    {
     "name": "stdout",
     "output_type": "stream",
     "text": [
      "test set score: 0.92655\n",
      "Best cross-validation score: 0.93749\n",
      "Best parameters:  {'n_estimators': 333, 'max_depth': 2, 'learning_rate': 0.329}\n"
     ]
    },
    {
     "name": "stderr",
     "output_type": "stream",
     "text": [
      "/Users/giancarlokerg/anaconda/lib/python3.5/site-packages/sklearn/grid_search.py:418: ChangedBehaviorWarning: The long-standing behavior to use the estimator's score function in GridSearchCV.score has changed. The scoring parameter is now used.\n",
      "  ChangedBehaviorWarning)\n"
     ]
    }
   ],
   "source": [
    "param_grid = {'n_estimators': [332,333,334], 'max_depth': [1,2,3], 'learning_rate': [0.328, 0.329,0.33]}\n",
    "grid_search = GridSearchCV(GradientBoostingRegressor(),param_grid,cv=5, scoring = auc_scorer) \n",
    "grid_search.fit(X_train,y_train[:,0])\n",
    "print(\"test set score: %.5f\" % grid_search.score(X_test,y_test[:,0]))\n",
    "print(\"Best cross-validation score: %.5f\" %grid_search.best_score_)\n",
    "# the latter attributes the mean cross-validation score\n",
    "print(\"Best parameters: \", grid_search.best_params_)"
   ]
  },
  {
   "cell_type": "markdown",
   "metadata": {},
   "source": [
    "## HLA-A-3101"
   ]
  },
  {
   "cell_type": "code",
   "execution_count": 46,
   "metadata": {
    "collapsed": true
   },
   "outputs": [],
   "source": [
    "df_h = df_9[df_9['mhc']=='HLA-A-3101'][['encoded_peptides','log_meas']]\n",
    "X = pd.DataFrame(list(df_h['encoded_peptides'])).values\n",
    "y = pd.DataFrame(list(df_h['log_meas'])).values\n",
    "X_train, X_test, y_train, y_test = train_test_split(X,y,random_state=1)"
   ]
  },
  {
   "cell_type": "code",
   "execution_count": 47,
   "metadata": {
    "collapsed": false
   },
   "outputs": [
    {
     "name": "stdout",
     "output_type": "stream",
     "text": [
      "test set score: 0.93218\n",
      "Best cross-validation score: 0.93146\n",
      "Best parameters:  {'n_estimators': 334, 'max_depth': 2, 'learning_rate': 0.326}\n"
     ]
    },
    {
     "name": "stderr",
     "output_type": "stream",
     "text": [
      "/Users/giancarlokerg/anaconda/lib/python3.5/site-packages/sklearn/grid_search.py:418: ChangedBehaviorWarning: The long-standing behavior to use the estimator's score function in GridSearchCV.score has changed. The scoring parameter is now used.\n",
      "  ChangedBehaviorWarning)\n"
     ]
    }
   ],
   "source": [
    "param_grid = {'n_estimators': [332,333,334,335], 'max_depth': [1,2,3], 'learning_rate': [0.324, 0.325, 0.326,0.327]}\n",
    "grid_search = GridSearchCV(GradientBoostingRegressor(),param_grid,cv=5, scoring = auc_scorer) \n",
    "grid_search.fit(X_train,y_train[:,0])\n",
    "print(\"test set score: %.5f\" % grid_search.score(X_test,y_test[:,0]))\n",
    "print(\"Best cross-validation score: %.5f\" %grid_search.best_score_)\n",
    "# the latter attributes the mean cross-validation score\n",
    "print(\"Best parameters: \", grid_search.best_params_)"
   ]
  },
  {
   "cell_type": "markdown",
   "metadata": {},
   "source": [
    "## HLA-A-0206"
   ]
  },
  {
   "cell_type": "code",
   "execution_count": 40,
   "metadata": {
    "collapsed": true
   },
   "outputs": [],
   "source": [
    "df_h = df_9[df_9['mhc']=='HLA-A-0206'][['encoded_peptides','log_meas']]\n",
    "X = pd.DataFrame(list(df_h['encoded_peptides'])).values\n",
    "y = pd.DataFrame(list(df_h['log_meas'])).values\n",
    "X_train, X_test, y_train, y_test = train_test_split(X,y,random_state=1)"
   ]
  },
  {
   "cell_type": "code",
   "execution_count": 43,
   "metadata": {
    "collapsed": false
   },
   "outputs": [
    {
     "name": "stdout",
     "output_type": "stream",
     "text": [
      "test set score: 0.89687\n",
      "Best cross-validation score: 0.89808\n",
      "Best parameters:  {'n_estimators': 334, 'max_depth': 2, 'learning_rate': 0.329}\n"
     ]
    },
    {
     "name": "stderr",
     "output_type": "stream",
     "text": [
      "/Users/giancarlokerg/anaconda/lib/python3.5/site-packages/sklearn/grid_search.py:418: ChangedBehaviorWarning: The long-standing behavior to use the estimator's score function in GridSearchCV.score has changed. The scoring parameter is now used.\n",
      "  ChangedBehaviorWarning)\n"
     ]
    }
   ],
   "source": [
    "param_grid = {'n_estimators': [333,334,335], 'max_depth': [1,2,3], 'learning_rate': [0.328, 0.329,0.33]}\n",
    "grid_search = GridSearchCV(GradientBoostingRegressor(),param_grid,cv=5, scoring = auc_scorer) \n",
    "grid_search.fit(X_train,y_train[:,0])\n",
    "print(\"test set score: %.5f\" % grid_search.score(X_test,y_test[:,0]))\n",
    "print(\"Best cross-validation score: %.5f\" %grid_search.best_score_)\n",
    "# the latter attributes the mean cross-validation score\n",
    "print(\"Best parameters: \", grid_search.best_params_)"
   ]
  },
  {
   "cell_type": "markdown",
   "metadata": {},
   "source": [
    "## HLA-A-6802"
   ]
  },
  {
   "cell_type": "code",
   "execution_count": 21,
   "metadata": {
    "collapsed": true
   },
   "outputs": [],
   "source": [
    "df_h = df_9[df_9['mhc']=='HLA-A-6802'][['encoded_peptides','log_meas']]\n",
    "X = pd.DataFrame(list(df_h['encoded_peptides'])).values\n",
    "y = pd.DataFrame(list(df_h['log_meas'])).values\n",
    "X_train, X_test, y_train, y_test = train_test_split(X,y,random_state=1)"
   ]
  },
  {
   "cell_type": "code",
   "execution_count": 24,
   "metadata": {
    "collapsed": false
   },
   "outputs": [
    {
     "name": "stdout",
     "output_type": "stream",
     "text": [
      "test set score: 0.91572\n",
      "Best cross-validation score: 0.91443\n",
      "Best parameters:  {'n_estimators': 334, 'max_depth': 2, 'learning_rate': 0.328}\n"
     ]
    },
    {
     "name": "stderr",
     "output_type": "stream",
     "text": [
      "/Users/giancarlokerg/anaconda/lib/python3.5/site-packages/sklearn/grid_search.py:418: ChangedBehaviorWarning: The long-standing behavior to use the estimator's score function in GridSearchCV.score has changed. The scoring parameter is now used.\n",
      "  ChangedBehaviorWarning)\n"
     ]
    }
   ],
   "source": [
    "param_grid = {'n_estimators': [333,334,335], 'max_depth': [1,2,3], 'learning_rate': [0.327, 0.328,0.329]}\n",
    "grid_search = GridSearchCV(GradientBoostingRegressor(),param_grid,cv=5, scoring = auc_scorer) \n",
    "grid_search.fit(X_train,y_train[:,0])\n",
    "print(\"test set score: %.5f\" % grid_search.score(X_test,y_test[:,0]))\n",
    "print(\"Best cross-validation score: %.5f\" %grid_search.best_score_)\n",
    "# the latter attributes the mean cross-validation score\n",
    "print(\"Best parameters: \", grid_search.best_params_)"
   ]
  },
  {
   "cell_type": "code",
   "execution_count": 36,
   "metadata": {
    "collapsed": false
   },
   "outputs": [
    {
     "data": {
      "text/html": [
       "<div>\n",
       "<table border=\"1\" class=\"dataframe\">\n",
       "  <thead>\n",
       "    <tr style=\"text-align: right;\">\n",
       "      <th></th>\n",
       "      <th>9mers</th>\n",
       "      <th>best cv</th>\n",
       "      <th>learning_rate</th>\n",
       "      <th>max_depth</th>\n",
       "      <th>n_estimators</th>\n",
       "      <th>test</th>\n",
       "    </tr>\n",
       "  </thead>\n",
       "  <tbody>\n",
       "    <tr>\n",
       "      <th>HLA-A-0201</th>\n",
       "      <td>6961</td>\n",
       "      <td>0.95000</td>\n",
       "      <td>0.328</td>\n",
       "      <td>2</td>\n",
       "      <td>331</td>\n",
       "      <td>0.95000</td>\n",
       "    </tr>\n",
       "    <tr>\n",
       "      <th>HLA-A-0301</th>\n",
       "      <td>4601</td>\n",
       "      <td>0.91897</td>\n",
       "      <td>0.327</td>\n",
       "      <td>2</td>\n",
       "      <td>324</td>\n",
       "      <td>0.93059</td>\n",
       "    </tr>\n",
       "    <tr>\n",
       "      <th>HLA-A-0203</th>\n",
       "      <td>3937</td>\n",
       "      <td>0.93288</td>\n",
       "      <td>0.328</td>\n",
       "      <td>2</td>\n",
       "      <td>334</td>\n",
       "      <td>0.94190</td>\n",
       "    </tr>\n",
       "    <tr>\n",
       "      <th>HLA-A-1101</th>\n",
       "      <td>3862</td>\n",
       "      <td>0.93749</td>\n",
       "      <td>0.329</td>\n",
       "      <td>2</td>\n",
       "      <td>333</td>\n",
       "      <td>0.92655</td>\n",
       "    </tr>\n",
       "    <tr>\n",
       "      <th>HLA-A-3101</th>\n",
       "      <td>3309</td>\n",
       "      <td>0.93146</td>\n",
       "      <td>0.326</td>\n",
       "      <td>2</td>\n",
       "      <td>334</td>\n",
       "      <td>0.93218</td>\n",
       "    </tr>\n",
       "    <tr>\n",
       "      <th>HLA-A-0206</th>\n",
       "      <td>3223</td>\n",
       "      <td>0.89808</td>\n",
       "      <td>0.329</td>\n",
       "      <td>2</td>\n",
       "      <td>334</td>\n",
       "      <td>0.89687</td>\n",
       "    </tr>\n",
       "    <tr>\n",
       "      <th>HLA-A-6802</th>\n",
       "      <td>3188</td>\n",
       "      <td>0.91443</td>\n",
       "      <td>0.328</td>\n",
       "      <td>2</td>\n",
       "      <td>334</td>\n",
       "      <td>0.91572</td>\n",
       "    </tr>\n",
       "  </tbody>\n",
       "</table>\n",
       "</div>"
      ],
      "text/plain": [
       "            9mers  best cv  learning_rate  max_depth  n_estimators     test\n",
       "HLA-A-0201   6961  0.95000          0.328          2           331  0.95000\n",
       "HLA-A-0301   4601  0.91897          0.327          2           324  0.93059\n",
       "HLA-A-0203   3937  0.93288          0.328          2           334  0.94190\n",
       "HLA-A-1101   3862  0.93749          0.329          2           333  0.92655\n",
       "HLA-A-3101   3309  0.93146          0.326          2           334  0.93218\n",
       "HLA-A-0206   3223  0.89808          0.329          2           334  0.89687\n",
       "HLA-A-6802   3188  0.91443          0.328          2           334  0.91572"
      ]
     },
     "execution_count": 36,
     "metadata": {},
     "output_type": "execute_result"
    }
   ],
   "source": [
    "pd.DataFrame({'n_estimators': [331,324,334,333,334,334,334], 'max_depth': [2,2,2,2,2,2,2], 'learning_rate': [0.328,0.327,0.328,0.329, 0.326, 0.329,0.328], 'best cv': [0.95,0.91897,0.93288,0.93749,0.93146,0.89808,0.91443], 'test': [0.95,0.93059,0.94190,0.92655,0.93218,0.89687,0.91572], '9mers': [6961,4601,3937,3862,3309,3223,3188]}, index = ['HLA-A-0201','HLA-A-0301','HLA-A-0203','HLA-A-1101','HLA-A-3101','HLA-A-0206','HLA-A-6802'])"
   ]
  },
  {
   "cell_type": "markdown",
   "metadata": {},
   "source": [
    "# F1- score"
   ]
  },
  {
   "cell_type": "code",
   "execution_count": null,
   "metadata": {
    "collapsed": true
   },
   "outputs": [],
   "source": []
  }
 ],
 "metadata": {
  "anaconda-cloud": {},
  "kernelspec": {
   "display_name": "Python [Root]",
   "language": "python",
   "name": "Python [Root]"
  },
  "language_info": {
   "codemirror_mode": {
    "name": "ipython",
    "version": 3
   },
   "file_extension": ".py",
   "mimetype": "text/x-python",
   "name": "python",
   "nbconvert_exporter": "python",
   "pygments_lexer": "ipython3",
   "version": "3.5.1"
  }
 },
 "nbformat": 4,
 "nbformat_minor": 0
}
