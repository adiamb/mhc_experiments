{
 "cells": [
  {
   "cell_type": "code",
   "execution_count": 13,
   "metadata": {
    "collapsed": false
   },
   "outputs": [],
   "source": [
    "import pandas as pd\n",
    "import sklearn \n",
    "import scipy\n",
    "from sklearn import linear_model as lm\n",
    "from sklearn.linear_model import LinearRegression\n",
    "from sklearn.cross_validation import KFold, cross_val_score, StratifiedKFold, LabelKFold, ShuffleSplit\n",
    "from sklearn.metrics import roc_auc_score, confusion_matrix\n",
    "from sklearn.preprocessing import StandardScaler\n",
    "from sklearn.decomposition import PCA\n",
    "from sklearn.svm import SVR\n",
    "from sklearn.ensemble import GradientBoostingRegressor\n",
    "import matplotlib.pyplot as plt \n",
    "% matplotlib inline\n",
    "import numpy as np\n",
    "import math \n",
    "from mhcflurry import peptide_encoding, amino_acid\n",
    "import statsmodels.api as sm\n",
    "from keras import models, layers, optimizers\n",
    "from keras.models import Sequential\n",
    "from keras.layers import Dense, Dropout, Embedding, LSTM, Input, merge, Convolution1D, AveragePooling1D, Activation, Flatten\n",
    "from keras.preprocessing import sequence\n",
    "from keras.models import Model\n",
    "from keras.engine import topology\n",
    "import seaborn as sns"
   ]
  },
  {
   "cell_type": "code",
   "execution_count": 14,
   "metadata": {
    "collapsed": false
   },
   "outputs": [
    {
     "data": {
      "text/html": [
       "<div>\n",
       "<table border=\"1\" class=\"dataframe\">\n",
       "  <thead>\n",
       "    <tr style=\"text-align: right;\">\n",
       "      <th></th>\n",
       "      <th>sequence</th>\n",
       "      <th>meas</th>\n",
       "      <th>log_meas</th>\n",
       "      <th>encoded_peptides</th>\n",
       "      <th>peptide_length</th>\n",
       "    </tr>\n",
       "  </thead>\n",
       "  <tbody>\n",
       "    <tr>\n",
       "      <th>15526</th>\n",
       "      <td>ETIEILRNY</td>\n",
       "      <td>20000.000000</td>\n",
       "      <td>0.084687</td>\n",
       "      <td>[4, 17, 8, 4, 8, 10, 15, 12, 20, 0, 0, 0, 0, 0...</td>\n",
       "      <td>9</td>\n",
       "    </tr>\n",
       "    <tr>\n",
       "      <th>19438</th>\n",
       "      <td>RTFHIFYYL</td>\n",
       "      <td>1.000000</td>\n",
       "      <td>1.000000</td>\n",
       "      <td>[15, 17, 5, 7, 8, 5, 20, 20, 10, 0, 0, 0, 0, 0...</td>\n",
       "      <td>9</td>\n",
       "    </tr>\n",
       "    <tr>\n",
       "      <th>16885</th>\n",
       "      <td>ILFDRLPIA</td>\n",
       "      <td>1.000000</td>\n",
       "      <td>1.000000</td>\n",
       "      <td>[8, 10, 5, 3, 15, 10, 13, 8, 1, 0, 0, 0, 0, 0, 0]</td>\n",
       "      <td>9</td>\n",
       "    </tr>\n",
       "    <tr>\n",
       "      <th>19905</th>\n",
       "      <td>SQLPPACPV</td>\n",
       "      <td>31.000000</td>\n",
       "      <td>0.682619</td>\n",
       "      <td>[16, 14, 10, 13, 13, 1, 2, 13, 18, 0, 0, 0, 0,...</td>\n",
       "      <td>9</td>\n",
       "    </tr>\n",
       "    <tr>\n",
       "      <th>19805</th>\n",
       "      <td>SLTSINVQA</td>\n",
       "      <td>503.000000</td>\n",
       "      <td>0.425072</td>\n",
       "      <td>[16, 10, 17, 16, 8, 12, 18, 14, 1, 0, 0, 0, 0,...</td>\n",
       "      <td>9</td>\n",
       "    </tr>\n",
       "    <tr>\n",
       "      <th>19278</th>\n",
       "      <td>RLVDYRKSV</td>\n",
       "      <td>1721.035340</td>\n",
       "      <td>0.311383</td>\n",
       "      <td>[15, 10, 18, 3, 20, 15, 9, 16, 18, 0, 0, 0, 0,...</td>\n",
       "      <td>9</td>\n",
       "    </tr>\n",
       "    <tr>\n",
       "      <th>14653</th>\n",
       "      <td>ALMTLDDLA</td>\n",
       "      <td>67.403122</td>\n",
       "      <td>0.610834</td>\n",
       "      <td>[1, 10, 11, 17, 10, 3, 3, 10, 1, 0, 0, 0, 0, 0...</td>\n",
       "      <td>9</td>\n",
       "    </tr>\n",
       "    <tr>\n",
       "      <th>16914</th>\n",
       "      <td>ILKPRIDKT</td>\n",
       "      <td>69444.444444</td>\n",
       "      <td>-0.030361</td>\n",
       "      <td>[8, 10, 9, 13, 15, 8, 3, 9, 17, 0, 0, 0, 0, 0, 0]</td>\n",
       "      <td>9</td>\n",
       "    </tr>\n",
       "    <tr>\n",
       "      <th>17025</th>\n",
       "      <td>IPRRNVATL</td>\n",
       "      <td>78125.000000</td>\n",
       "      <td>-0.041247</td>\n",
       "      <td>[8, 13, 15, 15, 12, 18, 1, 17, 10, 0, 0, 0, 0,...</td>\n",
       "      <td>9</td>\n",
       "    </tr>\n",
       "    <tr>\n",
       "      <th>19580</th>\n",
       "      <td>SDVTNRLEI</td>\n",
       "      <td>5565.640290</td>\n",
       "      <td>0.202907</td>\n",
       "      <td>[16, 3, 18, 17, 12, 15, 10, 4, 8, 0, 0, 0, 0, ...</td>\n",
       "      <td>9</td>\n",
       "    </tr>\n",
       "  </tbody>\n",
       "</table>\n",
       "</div>"
      ],
      "text/plain": [
       "        sequence          meas  log_meas  \\\n",
       "15526  ETIEILRNY  20000.000000  0.084687   \n",
       "19438  RTFHIFYYL      1.000000  1.000000   \n",
       "16885  ILFDRLPIA      1.000000  1.000000   \n",
       "19905  SQLPPACPV     31.000000  0.682619   \n",
       "19805  SLTSINVQA    503.000000  0.425072   \n",
       "19278  RLVDYRKSV   1721.035340  0.311383   \n",
       "14653  ALMTLDDLA     67.403122  0.610834   \n",
       "16914  ILKPRIDKT  69444.444444 -0.030361   \n",
       "17025  IPRRNVATL  78125.000000 -0.041247   \n",
       "19580  SDVTNRLEI   5565.640290  0.202907   \n",
       "\n",
       "                                        encoded_peptides  peptide_length  \n",
       "15526  [4, 17, 8, 4, 8, 10, 15, 12, 20, 0, 0, 0, 0, 0...               9  \n",
       "19438  [15, 17, 5, 7, 8, 5, 20, 20, 10, 0, 0, 0, 0, 0...               9  \n",
       "16885  [8, 10, 5, 3, 15, 10, 13, 8, 1, 0, 0, 0, 0, 0, 0]               9  \n",
       "19905  [16, 14, 10, 13, 13, 1, 2, 13, 18, 0, 0, 0, 0,...               9  \n",
       "19805  [16, 10, 17, 16, 8, 12, 18, 14, 1, 0, 0, 0, 0,...               9  \n",
       "19278  [15, 10, 18, 3, 20, 15, 9, 16, 18, 0, 0, 0, 0,...               9  \n",
       "14653  [1, 10, 11, 17, 10, 3, 3, 10, 1, 0, 0, 0, 0, 0...               9  \n",
       "16914  [8, 10, 9, 13, 15, 8, 3, 9, 17, 0, 0, 0, 0, 0, 0]               9  \n",
       "17025  [8, 13, 15, 15, 12, 18, 1, 17, 10, 0, 0, 0, 0,...               9  \n",
       "19580  [16, 3, 18, 17, 12, 15, 10, 4, 8, 0, 0, 0, 0, ...               9  "
      ]
     },
     "execution_count": 14,
     "metadata": {},
     "output_type": "execute_result"
    }
   ],
   "source": [
    "df = pd.read_table(\"bdata.2009.mhci.public.1.txt\")\n",
    "df_h = df[df['mhc']=='HLA-A-0201'][['sequence','meas']]\n",
    "df_h['log_meas']=1-np.log(df_h['meas'])/math.log(50000)\n",
    "max_len=df_h['sequence'].str.len().max()\n",
    "n_peptides = df_h['sequence'].count()\n",
    "from mhcflurry.amino_acid import common_amino_acids\n",
    "def amino_acid_encoding(s, maxlen):\n",
    "    a = 1+common_amino_acids.index_encoding([s],len(s)).flatten()\n",
    "    return np.concatenate([a, np.zeros(maxlen-len(a),dtype=int)])\n",
    "df_h['encoded_peptides'] = df_h.sequence.apply(lambda seq: amino_acid_encoding(seq, max_len))\n",
    "df_h['peptide_length'] = df_h['sequence'].str.len()\n",
    "df_h_9 = df_h[df_h['peptide_length']==9]\n",
    "df_9 = df_h_9.reindex(np.random.permutation(df_h_9.index))\n",
    "df_9.head(10)"
   ]
  },
  {
   "cell_type": "code",
   "execution_count": 15,
   "metadata": {
    "collapsed": true
   },
   "outputs": [],
   "source": [
    "def measured_affinity_less_than(Y,k):\n",
    "    IC50 = 50000**(1-Y)\n",
    "    return (IC50 < k).astype(int) "
   ]
  },
  {
   "cell_type": "code",
   "execution_count": 16,
   "metadata": {
    "collapsed": true
   },
   "outputs": [],
   "source": [
    "def affinity_label(Y):\n",
    "    return measured_affinity_less_than(Y,50) + measured_affinity_less_than(Y,500) + measured_affinity_less_than(Y,5000) + measured_affinity_less_than(Y,50000) "
   ]
  },
  {
   "cell_type": "code",
   "execution_count": 17,
   "metadata": {
    "collapsed": false
   },
   "outputs": [
    {
     "data": {
      "text/html": [
       "<div>\n",
       "<table border=\"1\" class=\"dataframe\">\n",
       "  <thead>\n",
       "    <tr style=\"text-align: right;\">\n",
       "      <th></th>\n",
       "      <th>sequence</th>\n",
       "      <th>meas</th>\n",
       "      <th>log_meas</th>\n",
       "      <th>encoded_peptides</th>\n",
       "      <th>peptide_length</th>\n",
       "      <th>affinity_label</th>\n",
       "    </tr>\n",
       "  </thead>\n",
       "  <tbody>\n",
       "    <tr>\n",
       "      <th>15526</th>\n",
       "      <td>ETIEILRNY</td>\n",
       "      <td>20000.000000</td>\n",
       "      <td>0.084687</td>\n",
       "      <td>[4, 17, 8, 4, 8, 10, 15, 12, 20, 0, 0, 0, 0, 0...</td>\n",
       "      <td>9</td>\n",
       "      <td>1</td>\n",
       "    </tr>\n",
       "    <tr>\n",
       "      <th>19438</th>\n",
       "      <td>RTFHIFYYL</td>\n",
       "      <td>1.000000</td>\n",
       "      <td>1.000000</td>\n",
       "      <td>[15, 17, 5, 7, 8, 5, 20, 20, 10, 0, 0, 0, 0, 0...</td>\n",
       "      <td>9</td>\n",
       "      <td>4</td>\n",
       "    </tr>\n",
       "    <tr>\n",
       "      <th>16885</th>\n",
       "      <td>ILFDRLPIA</td>\n",
       "      <td>1.000000</td>\n",
       "      <td>1.000000</td>\n",
       "      <td>[8, 10, 5, 3, 15, 10, 13, 8, 1, 0, 0, 0, 0, 0, 0]</td>\n",
       "      <td>9</td>\n",
       "      <td>4</td>\n",
       "    </tr>\n",
       "    <tr>\n",
       "      <th>19905</th>\n",
       "      <td>SQLPPACPV</td>\n",
       "      <td>31.000000</td>\n",
       "      <td>0.682619</td>\n",
       "      <td>[16, 14, 10, 13, 13, 1, 2, 13, 18, 0, 0, 0, 0,...</td>\n",
       "      <td>9</td>\n",
       "      <td>4</td>\n",
       "    </tr>\n",
       "    <tr>\n",
       "      <th>19805</th>\n",
       "      <td>SLTSINVQA</td>\n",
       "      <td>503.000000</td>\n",
       "      <td>0.425072</td>\n",
       "      <td>[16, 10, 17, 16, 8, 12, 18, 14, 1, 0, 0, 0, 0,...</td>\n",
       "      <td>9</td>\n",
       "      <td>2</td>\n",
       "    </tr>\n",
       "    <tr>\n",
       "      <th>19278</th>\n",
       "      <td>RLVDYRKSV</td>\n",
       "      <td>1721.035340</td>\n",
       "      <td>0.311383</td>\n",
       "      <td>[15, 10, 18, 3, 20, 15, 9, 16, 18, 0, 0, 0, 0,...</td>\n",
       "      <td>9</td>\n",
       "      <td>2</td>\n",
       "    </tr>\n",
       "    <tr>\n",
       "      <th>14653</th>\n",
       "      <td>ALMTLDDLA</td>\n",
       "      <td>67.403122</td>\n",
       "      <td>0.610834</td>\n",
       "      <td>[1, 10, 11, 17, 10, 3, 3, 10, 1, 0, 0, 0, 0, 0...</td>\n",
       "      <td>9</td>\n",
       "      <td>3</td>\n",
       "    </tr>\n",
       "    <tr>\n",
       "      <th>16914</th>\n",
       "      <td>ILKPRIDKT</td>\n",
       "      <td>69444.444444</td>\n",
       "      <td>-0.030361</td>\n",
       "      <td>[8, 10, 9, 13, 15, 8, 3, 9, 17, 0, 0, 0, 0, 0, 0]</td>\n",
       "      <td>9</td>\n",
       "      <td>0</td>\n",
       "    </tr>\n",
       "    <tr>\n",
       "      <th>17025</th>\n",
       "      <td>IPRRNVATL</td>\n",
       "      <td>78125.000000</td>\n",
       "      <td>-0.041247</td>\n",
       "      <td>[8, 13, 15, 15, 12, 18, 1, 17, 10, 0, 0, 0, 0,...</td>\n",
       "      <td>9</td>\n",
       "      <td>0</td>\n",
       "    </tr>\n",
       "    <tr>\n",
       "      <th>19580</th>\n",
       "      <td>SDVTNRLEI</td>\n",
       "      <td>5565.640290</td>\n",
       "      <td>0.202907</td>\n",
       "      <td>[16, 3, 18, 17, 12, 15, 10, 4, 8, 0, 0, 0, 0, ...</td>\n",
       "      <td>9</td>\n",
       "      <td>1</td>\n",
       "    </tr>\n",
       "  </tbody>\n",
       "</table>\n",
       "</div>"
      ],
      "text/plain": [
       "        sequence          meas  log_meas  \\\n",
       "15526  ETIEILRNY  20000.000000  0.084687   \n",
       "19438  RTFHIFYYL      1.000000  1.000000   \n",
       "16885  ILFDRLPIA      1.000000  1.000000   \n",
       "19905  SQLPPACPV     31.000000  0.682619   \n",
       "19805  SLTSINVQA    503.000000  0.425072   \n",
       "19278  RLVDYRKSV   1721.035340  0.311383   \n",
       "14653  ALMTLDDLA     67.403122  0.610834   \n",
       "16914  ILKPRIDKT  69444.444444 -0.030361   \n",
       "17025  IPRRNVATL  78125.000000 -0.041247   \n",
       "19580  SDVTNRLEI   5565.640290  0.202907   \n",
       "\n",
       "                                        encoded_peptides  peptide_length  \\\n",
       "15526  [4, 17, 8, 4, 8, 10, 15, 12, 20, 0, 0, 0, 0, 0...               9   \n",
       "19438  [15, 17, 5, 7, 8, 5, 20, 20, 10, 0, 0, 0, 0, 0...               9   \n",
       "16885  [8, 10, 5, 3, 15, 10, 13, 8, 1, 0, 0, 0, 0, 0, 0]               9   \n",
       "19905  [16, 14, 10, 13, 13, 1, 2, 13, 18, 0, 0, 0, 0,...               9   \n",
       "19805  [16, 10, 17, 16, 8, 12, 18, 14, 1, 0, 0, 0, 0,...               9   \n",
       "19278  [15, 10, 18, 3, 20, 15, 9, 16, 18, 0, 0, 0, 0,...               9   \n",
       "14653  [1, 10, 11, 17, 10, 3, 3, 10, 1, 0, 0, 0, 0, 0...               9   \n",
       "16914  [8, 10, 9, 13, 15, 8, 3, 9, 17, 0, 0, 0, 0, 0, 0]               9   \n",
       "17025  [8, 13, 15, 15, 12, 18, 1, 17, 10, 0, 0, 0, 0,...               9   \n",
       "19580  [16, 3, 18, 17, 12, 15, 10, 4, 8, 0, 0, 0, 0, ...               9   \n",
       "\n",
       "       affinity_label  \n",
       "15526               1  \n",
       "19438               4  \n",
       "16885               4  \n",
       "19905               4  \n",
       "19805               2  \n",
       "19278               2  \n",
       "14653               3  \n",
       "16914               0  \n",
       "17025               0  \n",
       "19580               1  "
      ]
     },
     "execution_count": 17,
     "metadata": {},
     "output_type": "execute_result"
    }
   ],
   "source": [
    "df_9['affinity_label'] = affinity_label(df_all['log_meas'])\n",
    "df_9.head(10)"
   ]
  },
  {
   "cell_type": "code",
   "execution_count": 18,
   "metadata": {
    "collapsed": true
   },
   "outputs": [],
   "source": [
    "X = pd.DataFrame(list(df_9['encoded_peptides'])).values\n",
    "y = pd.DataFrame(list(df_9['log_meas'])).values"
   ]
  },
  {
   "cell_type": "code",
   "execution_count": 19,
   "metadata": {
    "collapsed": true
   },
   "outputs": [],
   "source": [
    "from sklearn.cross_validation import train_test_split\n",
    "X_train, X_test, y_train, y_test = train_test_split(X,y)"
   ]
  },
  {
   "cell_type": "markdown",
   "metadata": {},
   "source": [
    "# Linear Regression "
   ]
  },
  {
   "cell_type": "code",
   "execution_count": 20,
   "metadata": {
    "collapsed": false
   },
   "outputs": [
    {
     "name": "stdout",
     "output_type": "stream",
     "text": [
      "[[  0   9 230   0   0]\n",
      " [  0  33 669   0   0]\n",
      " [  0   9 209   0   0]\n",
      " [  0   4 245   0   0]\n",
      " [  0   9 321   3   0]]\n"
     ]
    },
    {
     "data": {
      "image/png": "[encoded data removed]",
      "text/plain": [
       "<matplotlib.figure.Figure at 0x119490a90>"
      ]
     },
     "metadata": {},
     "output_type": "display_data"
    }
   ],
   "source": [
    "lr = LinearRegression()\n",
    "lr.fit(X_train,y_train)\n",
    "lr_pred = lr.predict(X_test)\n",
    "print(confusion_matrix(affinity_label(y_test),affinity_label(lr_pred)))\n",
    "blu = sns.light_palette(\"navy\", as_cmap= True)\n",
    "sns.heatmap(confusion_matrix(affinity_label(y_test),affinity_label(lr_pred)),cmap= blu, fmt=\"%d\")\n",
    "plt.xlabel(\"Predicted label\")\n",
    "plt.ylabel(\"True label\")\n",
    "plt.title(\"Confusion matrix\")\n",
    "plt.gca().invert_yaxis()"
   ]
  },
  {
   "cell_type": "code",
   "execution_count": 21,
   "metadata": {
    "collapsed": false
   },
   "outputs": [
    {
     "name": "stdout",
     "output_type": "stream",
     "text": [
      "[[1159    0]\n",
      " [ 579    3]]\n"
     ]
    },
    {
     "data": {
      "image/png": "[encoded data removed]",
      "text/plain": [
       "<matplotlib.figure.Figure at 0x10973db00>"
      ]
     },
     "metadata": {},
     "output_type": "display_data"
    }
   ],
   "source": [
    "print(confusion_matrix(measured_affinity_less_than(y_test,500),measured_affinity_less_than(lr_pred,500)))\n",
    "sns.heatmap(confusion_matrix(measured_affinity_less_than(y_test,500),measured_affinity_less_than(lr_pred,500)),cmap= blu, fmt=\"%d\")\n",
    "plt.xlabel(\"Predicted label\")\n",
    "plt.ylabel(\"True label\")\n",
    "plt.title(\"Confusion matrix\")\n",
    "plt.gca().invert_yaxis()"
   ]
  },
  {
   "cell_type": "markdown",
   "metadata": {},
   "source": [
    "## SVM"
   ]
  },
  {
   "cell_type": "code",
   "execution_count": 32,
   "metadata": {
    "collapsed": false
   },
   "outputs": [
    {
     "name": "stdout",
     "output_type": "stream",
     "text": [
      "[[  0   9 230   0   0]\n",
      " [  0  33 669   0   0]\n",
      " [  0   9 209   0   0]\n",
      " [  0   4 245   0   0]\n",
      " [  0   9 321   3   0]]\n"
     ]
    },
    {
     "data": {
      "image/png": "[encoded data removed]",
      "text/plain": [
       "<matplotlib.figure.Figure at 0x119f63470>"
      ]
     },
     "metadata": {},
     "output_type": "display_data"
    }
   ],
   "source": [
    "svm = SVR()\n",
    "svm.fit(X_train,y_train[:,0])\n",
    "svm_pred = svm.predict(X_test)\n",
    "print(confusion_matrix(affinity_label(y_test),affinity_label(lr_pred)))\n",
    "blu = sns.light_palette(\"navy\", as_cmap= True)\n",
    "sns.heatmap(confusion_matrix(affinity_label(y_test),affinity_label(svm_pred)),cmap= blu, fmt=\"%d\")\n",
    "plt.xlabel(\"Predicted label\")\n",
    "plt.ylabel(\"True label\")\n",
    "plt.title(\"Confusion matrix\")\n",
    "plt.gca().invert_yaxis()"
   ]
  },
  {
   "cell_type": "code",
   "execution_count": 33,
   "metadata": {
    "collapsed": false
   },
   "outputs": [
    {
     "name": "stdout",
     "output_type": "stream",
     "text": [
      "[[1147   12]\n",
      " [ 536   46]]\n"
     ]
    },
    {
     "data": {
      "image/png": "[encoded data removed]",
      "text/plain": [
       "<matplotlib.figure.Figure at 0x119854748>"
      ]
     },
     "metadata": {},
     "output_type": "display_data"
    }
   ],
   "source": [
    "print(confusion_matrix(measured_affinity_less_than(y_test,500),measured_affinity_less_than(svm_pred,500)))\n",
    "sns.heatmap(confusion_matrix(measured_affinity_less_than(y_test,500),measured_affinity_less_than(svm_pred,500)),cmap= blu, fmt=\"%d\")\n",
    "plt.xlabel(\"Predicted label\")\n",
    "plt.ylabel(\"True label\")\n",
    "plt.title(\"Confusion matrix\")\n",
    "plt.gca().invert_yaxis()"
   ]
  },
  {
   "cell_type": "markdown",
   "metadata": {},
   "source": [
    "## GradientBoostingDescent"
   ]
  },
  {
   "cell_type": "code",
   "execution_count": 30,
   "metadata": {
    "collapsed": false
   },
   "outputs": [
    {
     "name": "stdout",
     "output_type": "stream",
     "text": [
      "[[ 38 156  41   4   0]\n",
      " [ 72 437 161  30   2]\n",
      " [  1  46  97  72   2]\n",
      " [  0  17  76 129  27]\n",
      " [  0   2  41 147 143]]\n"
     ]
    },
    {
     "data": {
      "image/png": "[encoded data removed]",
      "text/plain": [
       "<matplotlib.figure.Figure at 0x1194e5278>"
      ]
     },
     "metadata": {},
     "output_type": "display_data"
    }
   ],
   "source": [
    "gbr = GradientBoostingRegressor(max_depth = 7)\n",
    "gbr.fit(X_train,y_train[:,0])\n",
    "gbr_pred = gbr.predict(X_test)\n",
    "print(confusion_matrix(affinity_label(y_test),affinity_label(gbr_pred)))\n",
    "blu = sns.light_palette(\"navy\", as_cmap= True)\n",
    "sns.heatmap(confusion_matrix(affinity_label(y_test),affinity_label(gbr_pred)),cmap= blu, fmt=\"%d\")\n",
    "plt.xlabel(\"Predicted label\")\n",
    "plt.ylabel(\"True label\")\n",
    "plt.title(\"Confusion matrix\")\n",
    "plt.gca().invert_yaxis()"
   ]
  },
  {
   "cell_type": "code",
   "execution_count": 31,
   "metadata": {
    "collapsed": false
   },
   "outputs": [
    {
     "name": "stdout",
     "output_type": "stream",
     "text": [
      "[[1049  110]\n",
      " [ 136  446]]\n"
     ]
    },
    {
     "data": {
      "image/png": "[encoded data removed]",
      "text/plain": [
       "<matplotlib.figure.Figure at 0x11a364ac8>"
      ]
     },
     "metadata": {},
     "output_type": "display_data"
    }
   ],
   "source": [
    "print(confusion_matrix(measured_affinity_less_than(y_test,500),measured_affinity_less_than(gbr_pred,500)))\n",
    "sns.heatmap(confusion_matrix(measured_affinity_less_than(y_test,500),measured_affinity_less_than(gbr_pred,500)),cmap= blu, fmt=\"%d\")\n",
    "plt.xlabel(\"Predicted label\")\n",
    "plt.ylabel(\"True label\")\n",
    "plt.title(\"Confusion matrix\")\n",
    "plt.gca().invert_yaxis()"
   ]
  },
  {
   "cell_type": "code",
   "execution_count": null,
   "metadata": {
    "collapsed": true
   },
   "outputs": [],
   "source": []
  }
 ],
 "metadata": {
  "anaconda-cloud": {},
  "kernelspec": {
   "display_name": "Python [Root]",
   "language": "python",
   "name": "Python [Root]"
  },
  "language_info": {
   "codemirror_mode": {
    "name": "ipython",
    "version": 3
   },
   "file_extension": ".py",
   "mimetype": "text/x-python",
   "name": "python",
   "nbconvert_exporter": "python",
   "pygments_lexer": "ipython3",
   "version": "3.5.1"
  }
 },
 "nbformat": 4,
 "nbformat_minor": 0
}
