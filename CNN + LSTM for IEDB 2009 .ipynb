{
 "cells": [
  {
   "cell_type": "code",
   "execution_count": 1,
   "metadata": {
    "collapsed": false
   },
   "outputs": [
    {
     "name": "stderr",
     "output_type": "stream",
     "text": [
      "Using Theano backend.\n"
     ]
    }
   ],
   "source": [
    "import pandas as pd\n",
    "import sklearn \n",
    "from sklearn import linear_model as lm\n",
    "from sklearn.cross_validation import KFold, cross_val_score\n",
    "from sklearn.metrics import roc_auc_score\n",
    "import matplotlib.pyplot as plt\n",
    "import numpy as np\n",
    "import math \n",
    "from mhcflurry import peptide_encoding, amino_acid\n",
    "import statsmodels.api as sm\n",
    "from keras import models, layers, optimizers"
   ]
  },
  {
   "cell_type": "code",
   "execution_count": 2,
   "metadata": {
    "collapsed": true
   },
   "outputs": [],
   "source": [
    "df = pd.read_table(\"bdata.2009.mhci.public.1.txt\")"
   ]
  },
  {
   "cell_type": "code",
   "execution_count": 6,
   "metadata": {
    "collapsed": false
   },
   "outputs": [
    {
     "data": {
      "text/plain": [
       "mhc\n",
       "HLA-A-0201    9565\n",
       "HLA-A-0301    6141\n",
       "HLA-A-0203    5542\n",
       "HLA-A-1101    5399\n",
       "HLA-A-0206    4827\n",
       "HLA-A-3101    4796\n",
       "HLA-A-6802    4768\n",
       "HLA-A-0202    3919\n",
       "HLA-A-0101    3725\n",
       "HLA-B-0702    3412\n",
       "H-2-Kb        3407\n",
       "dtype: int64"
      ]
     },
     "execution_count": 6,
     "metadata": {},
     "output_type": "execute_result"
    }
   ],
   "source": [
    "df.groupby('mhc').size().nlargest(11)"
   ]
  },
  {
   "cell_type": "code",
   "execution_count": 4,
   "metadata": {
    "collapsed": true
   },
   "outputs": [],
   "source": [
    "df_h=df[df['mhc']=='HLA-A-0201'][['sequence','meas']]\n",
    "df_h['log_meas']=1-np.log(df_h['meas'])/math.log(50000)"
   ]
  },
  {
   "cell_type": "code",
   "execution_count": 15,
   "metadata": {
    "collapsed": false,
    "scrolled": true
   },
   "outputs": [
    {
     "data": {
      "text/html": [
       "<div>\n",
       "<table border=\"1\" class=\"dataframe\">\n",
       "  <thead>\n",
       "    <tr style=\"text-align: right;\">\n",
       "      <th></th>\n",
       "      <th>sequence</th>\n",
       "      <th>meas</th>\n",
       "      <th>log_meas</th>\n",
       "      <th>encoded_peptides</th>\n",
       "      <th>peptide_length</th>\n",
       "    </tr>\n",
       "  </thead>\n",
       "  <tbody>\n",
       "    <tr>\n",
       "      <th>11816</th>\n",
       "      <td>AAAKTPVIVV</td>\n",
       "      <td>44318.996782</td>\n",
       "      <td>0.011147</td>\n",
       "      <td>[1, 1, 1, 9, 17, 13, 18, 8, 18, 18, 0, 0, 0, 0...</td>\n",
       "      <td>10</td>\n",
       "    </tr>\n",
       "    <tr>\n",
       "      <th>11817</th>\n",
       "      <td>AAASSTHRKV</td>\n",
       "      <td>69444.444444</td>\n",
       "      <td>-0.030361</td>\n",
       "      <td>[1, 1, 1, 16, 16, 17, 7, 15, 9, 18, 0, 0, 0, 0...</td>\n",
       "      <td>10</td>\n",
       "    </tr>\n",
       "    <tr>\n",
       "      <th>11818</th>\n",
       "      <td>AACIVGCENV</td>\n",
       "      <td>28175.000000</td>\n",
       "      <td>0.053013</td>\n",
       "      <td>[1, 1, 2, 8, 18, 6, 2, 4, 12, 18, 0, 0, 0, 0, 0]</td>\n",
       "      <td>10</td>\n",
       "    </tr>\n",
       "    <tr>\n",
       "      <th>11819</th>\n",
       "      <td>AADLTQIFEV</td>\n",
       "      <td>16.529414</td>\n",
       "      <td>0.740739</td>\n",
       "      <td>[1, 1, 3, 10, 17, 14, 8, 5, 4, 18, 0, 0, 0, 0, 0]</td>\n",
       "      <td>10</td>\n",
       "    </tr>\n",
       "    <tr>\n",
       "      <th>11820</th>\n",
       "      <td>AAERGPGQML</td>\n",
       "      <td>2277.020021</td>\n",
       "      <td>0.285510</td>\n",
       "      <td>[1, 1, 4, 15, 6, 13, 6, 14, 11, 10, 0, 0, 0, 0...</td>\n",
       "      <td>10</td>\n",
       "    </tr>\n",
       "    <tr>\n",
       "      <th>11821</th>\n",
       "      <td>AAGIGILTVI</td>\n",
       "      <td>5555.000000</td>\n",
       "      <td>0.203084</td>\n",
       "      <td>[1, 1, 6, 8, 6, 8, 10, 17, 18, 8, 0, 0, 0, 0, 0]</td>\n",
       "      <td>10</td>\n",
       "    </tr>\n",
       "    <tr>\n",
       "      <th>11822</th>\n",
       "      <td>AAGLQDCTML</td>\n",
       "      <td>50000.000000</td>\n",
       "      <td>0.000000</td>\n",
       "      <td>[1, 1, 6, 10, 14, 3, 2, 17, 11, 10, 0, 0, 0, 0...</td>\n",
       "      <td>10</td>\n",
       "    </tr>\n",
       "    <tr>\n",
       "      <th>11823</th>\n",
       "      <td>AAITDAAVAV</td>\n",
       "      <td>5310.920858</td>\n",
       "      <td>0.207237</td>\n",
       "      <td>[1, 1, 8, 17, 3, 1, 1, 18, 1, 18, 0, 0, 0, 0, 0]</td>\n",
       "      <td>10</td>\n",
       "    </tr>\n",
       "    <tr>\n",
       "      <th>11824</th>\n",
       "      <td>AAITLVVISV</td>\n",
       "      <td>368.627244</td>\n",
       "      <td>0.453798</td>\n",
       "      <td>[1, 1, 8, 17, 10, 18, 18, 8, 16, 18, 0, 0, 0, ...</td>\n",
       "      <td>10</td>\n",
       "    </tr>\n",
       "    <tr>\n",
       "      <th>11825</th>\n",
       "      <td>AANPHATFGV</td>\n",
       "      <td>2950.000000</td>\n",
       "      <td>0.261578</td>\n",
       "      <td>[1, 1, 12, 13, 7, 1, 17, 5, 6, 18, 0, 0, 0, 0, 0]</td>\n",
       "      <td>10</td>\n",
       "    </tr>\n",
       "  </tbody>\n",
       "</table>\n",
       "</div>"
      ],
      "text/plain": [
       "         sequence          meas  log_meas  \\\n",
       "11816  AAAKTPVIVV  44318.996782  0.011147   \n",
       "11817  AAASSTHRKV  69444.444444 -0.030361   \n",
       "11818  AACIVGCENV  28175.000000  0.053013   \n",
       "11819  AADLTQIFEV     16.529414  0.740739   \n",
       "11820  AAERGPGQML   2277.020021  0.285510   \n",
       "11821  AAGIGILTVI   5555.000000  0.203084   \n",
       "11822  AAGLQDCTML  50000.000000  0.000000   \n",
       "11823  AAITDAAVAV   5310.920858  0.207237   \n",
       "11824  AAITLVVISV    368.627244  0.453798   \n",
       "11825  AANPHATFGV   2950.000000  0.261578   \n",
       "\n",
       "                                        encoded_peptides  peptide_length  \n",
       "11816  [1, 1, 1, 9, 17, 13, 18, 8, 18, 18, 0, 0, 0, 0...              10  \n",
       "11817  [1, 1, 1, 16, 16, 17, 7, 15, 9, 18, 0, 0, 0, 0...              10  \n",
       "11818   [1, 1, 2, 8, 18, 6, 2, 4, 12, 18, 0, 0, 0, 0, 0]              10  \n",
       "11819  [1, 1, 3, 10, 17, 14, 8, 5, 4, 18, 0, 0, 0, 0, 0]              10  \n",
       "11820  [1, 1, 4, 15, 6, 13, 6, 14, 11, 10, 0, 0, 0, 0...              10  \n",
       "11821   [1, 1, 6, 8, 6, 8, 10, 17, 18, 8, 0, 0, 0, 0, 0]              10  \n",
       "11822  [1, 1, 6, 10, 14, 3, 2, 17, 11, 10, 0, 0, 0, 0...              10  \n",
       "11823   [1, 1, 8, 17, 3, 1, 1, 18, 1, 18, 0, 0, 0, 0, 0]              10  \n",
       "11824  [1, 1, 8, 17, 10, 18, 18, 8, 16, 18, 0, 0, 0, ...              10  \n",
       "11825  [1, 1, 12, 13, 7, 1, 17, 5, 6, 18, 0, 0, 0, 0, 0]              10  "
      ]
     },
     "execution_count": 15,
     "metadata": {},
     "output_type": "execute_result"
    }
   ],
   "source": [
    "max_len=df_h['sequence'].str.len().max()\n",
    "n_peptides = df_h['sequence'].count()\n",
    "from mhcflurry.amino_acid import common_amino_acids\n",
    "def amino_acid_encoding(s, maxlen):\n",
    "    a = 1+common_amino_acids.index_encoding([s],len(s)).flatten()\n",
    "    return np.concatenate([a, np.zeros(maxlen-len(a),dtype=int)])\n",
    "df_h['encoded_peptides'] = df_h.sequence.apply(lambda seq: amino_acid_encoding(seq, max_len))\n",
    "df_h['peptide_length'] = df_h['sequence'].str.len()\n",
    "df_h.groupby('peptide_length').count()\n",
    "df_h.head(10)"
   ]
  },
  {
   "cell_type": "code",
   "execution_count": null,
   "metadata": {
    "collapsed": true
   },
   "outputs": [],
   "source": [
    "df_h_9 = df_h[df_h['peptide_length']==9]"
   ]
  },
  {
   "cell_type": "code",
   "execution_count": 6,
   "metadata": {
    "collapsed": false
   },
   "outputs": [
    {
     "data": {
      "text/plain": [
       "5399"
      ]
     },
     "execution_count": 6,
     "metadata": {},
     "output_type": "execute_result"
    }
   ],
   "source": [
    "len(df_h['encoded_peptides'])"
   ]
  },
  {
   "cell_type": "code",
   "execution_count": 7,
   "metadata": {
    "collapsed": true
   },
   "outputs": [],
   "source": [
    "def measured_affinity_less_than_500(Y):\n",
    "    IC50 = 50000**(1-Y)\n",
    "    return IC50 < 500"
   ]
  },
  {
   "cell_type": "code",
   "execution_count": 8,
   "metadata": {
    "collapsed": false
   },
   "outputs": [],
   "source": [
    "t=len(df_h['encoded_peptides'])/5\n",
    "train= np.arange(0,4*t,1)\n",
    "test = np.arange(4*t+1,5*t,1)\n"
   ]
  },
  {
   "cell_type": "code",
   "execution_count": 9,
   "metadata": {
    "collapsed": false
   },
   "outputs": [
    {
     "name": "stderr",
     "output_type": "stream",
     "text": [
      "/Users/giancarlokerg/anaconda/lib/python3.5/site-packages/pandas/indexes/base.py:1275: VisibleDeprecationWarning: non integer (and non boolean) array-likes will not be accepted as indices in the future\n",
      "  result = getitem(key)\n"
     ]
    }
   ],
   "source": [
    "from keras.models import Sequential\n",
    "from keras.layers import Dense, Dropout, Embedding, LSTM, Input, merge, Convolution1D, AveragePooling1D, Activation, Flatten\n",
    "from keras.preprocessing import sequence\n",
    "from keras.models import Model\n",
    "from keras.engine import topology \n",
    "\n",
    "X_train = pd.DataFrame(list(df_h['encoded_peptides'].iloc[train])).values\n",
    "Y_train = pd.DataFrame(list(df_h['log_meas'].iloc[train])).values\n",
    "X_test = pd.DataFrame(list(df_h['encoded_peptides'].iloc[test])).values\n",
    "Y_test = pd.DataFrame(list(df_h['log_meas'].iloc[test])).values\n",
    "\n",
    "#Prepare the model \n",
    "sequence = Input( shape= (max_len,), dtype='int32')\n",
    "embedded = Embedding(21, 100, mask_zero = True)(sequence)\n",
    "before_dp = Dropout(0)(embedded)\n",
    "#flat = Flatten()(embedded)\n",
    "\n",
    "#conv_filter = Convolution1D(64, 14 , border_mode='same')(embedded)\n",
    "#act = Activation('relu')(conv_filter)\n",
    "#flat = Flatten()(act)\n",
    "\n",
    "\n",
    "forwards = LSTM(80)(before_dp)\n",
    "backwards = LSTM(80, go_backwards=True)(before_dp)\n",
    "\n",
    "merged = merge([forwards, backwards], mode='concat', concat_axis=-1)\n",
    "\n",
    "\n",
    "\n",
    "\n",
    "\n",
    "#after_dp_bis = Dropout(0.5)(merged_bis)\n",
    "#pre_pre_pre_pre_output = Dense(80, activation='hard_sigmoid')(merged)\n",
    "#pre_pre_pre_after_dp = Dropout(0.5)(pre_pre_pre_pre_output)\n",
    "#pre_pre_pre_output = Dense(480, activation='hard_sigmoid')(pre_pre_pre_after_dp)\n",
    "#pre_pre_after_dp = Dropout(0.5)(pre_pre_pre_output)\n",
    "#pre_pre_output = Dense(280, activation='hard_sigmoid')(pre_pre_after_dp)\n",
    "#pre_pre_after_dp = Dropout(0.5)(merged)\n",
    "#pre_output = Dense(280, activation='hard_sigmoid')(pre_pre_after_dp)\n",
    "pre_after_dp = Dropout(0.5)(merged)\n",
    "output = Dense(1, activation='hard_sigmoid')(pre_after_dp)\n",
    "model = Model(input=sequence, output=output)\n",
    "#Compile the model\n",
    "model.compile(optimizer = 'Adam', loss='mean_squared_error')"
   ]
  },
  {
   "cell_type": "code",
   "execution_count": 10,
   "metadata": {
    "collapsed": false
   },
   "outputs": [
    {
     "name": "stdout",
     "output_type": "stream",
     "text": [
      "0 269 0.878934574411 0.885728117593\n",
      "1 269 0.901851727316 0.903789934878\n",
      "2 269 0.915685783908 0.916560123814\n",
      "3 269 0.922904197539 0.923427464878\n",
      "4 269 0.926244901915 0.928279837606\n",
      "5 269 0.932778955738 0.933726607302\n",
      "6 269 0.937501483439 0.940343479204\n",
      "7 269 0.944248905222 0.945012672992\n",
      "8 269 0.94490557417 0.945519218835\n",
      "9 269 0.946188748808 0.947726711975\n",
      "10 269 0.948240097551 0.948822047268\n",
      "11 269 0.946884976127 0.949633268286\n",
      "12 269 0.948239603071 0.948810832231\n",
      "13 269 0.951902831786 0.95055290133\n",
      "14 269 0.953023446246 0.950373460736\n",
      "15 269 0.951698858939 0.950541686293\n",
      "16 269 0.955331182677 0.950433274267\n",
      "17 269 0.958090131769 0.947438859356\n",
      "18 269 0.960574397427 0.950231403599\n",
      "19 269 0.96286606327 0.949083731467\n",
      "20 269 0.965092952281 0.952407120801\n",
      "21 269 0.966290334703 0.948038863842\n",
      "22 269 0.966680108271 0.947939797681\n",
      "23 269 0.969518421344 0.945965951147\n",
      "24 269 0.970595274357 0.9445921091\n",
      "25 269 0.976191300323 0.946169690988\n",
      "26 269 0.975839972546 0.945687444392\n"
     ]
    },
    {
     "ename": "KeyboardInterrupt",
     "evalue": "",
     "output_type": "error",
     "traceback": [
      "\u001b[0;31m---------------------------------------------------------------------------\u001b[0m",
      "\u001b[0;31mKeyboardInterrupt\u001b[0m                         Traceback (most recent call last)",
      "\u001b[0;32m<ipython-input-10-4988788aa146>\u001b[0m in \u001b[0;36m<module>\u001b[0;34m()\u001b[0m\n\u001b[1;32m      5\u001b[0m     \u001b[0;32mfor\u001b[0m \u001b[0mbatch_idx\u001b[0m \u001b[0;32min\u001b[0m \u001b[0mrange\u001b[0m\u001b[0;34m(\u001b[0m\u001b[0mlen\u001b[0m\u001b[0;34m(\u001b[0m\u001b[0mX_train\u001b[0m\u001b[0;34m)\u001b[0m \u001b[0;34m//\u001b[0m \u001b[0mbatch_size\u001b[0m\u001b[0;34m)\u001b[0m\u001b[0;34m:\u001b[0m\u001b[0;34m\u001b[0m\u001b[0m\n\u001b[1;32m      6\u001b[0m         model.train_on_batch(X_train[batch_idx * batch_size:(batch_idx + 1) * batch_size], \n\u001b[0;32m----> 7\u001b[0;31m                              Y_train[batch_idx * batch_size:(batch_idx + 1) * batch_size])\n\u001b[0m\u001b[1;32m      8\u001b[0m     \u001b[0mtrain_pred\u001b[0m \u001b[0;34m=\u001b[0m \u001b[0mmodel\u001b[0m\u001b[0;34m.\u001b[0m\u001b[0mpredict\u001b[0m\u001b[0;34m(\u001b[0m\u001b[0mX_train\u001b[0m\u001b[0;34m)\u001b[0m\u001b[0;34m\u001b[0m\u001b[0m\n\u001b[1;32m      9\u001b[0m     \u001b[0mtest_pred\u001b[0m \u001b[0;34m=\u001b[0m \u001b[0mmodel\u001b[0m\u001b[0;34m.\u001b[0m\u001b[0mpredict\u001b[0m\u001b[0;34m(\u001b[0m\u001b[0mX_test\u001b[0m\u001b[0;34m)\u001b[0m\u001b[0;34m\u001b[0m\u001b[0m\n",
      "\u001b[0;32m/Users/giancarlokerg/anaconda/lib/python3.5/site-packages/Keras-1.0.5-py3.5.egg/keras/engine/training.py\u001b[0m in \u001b[0;36mtrain_on_batch\u001b[0;34m(self, x, y, sample_weight, class_weight)\u001b[0m\n\u001b[1;32m   1195\u001b[0m             \u001b[0mins\u001b[0m \u001b[0;34m=\u001b[0m \u001b[0mx\u001b[0m \u001b[0;34m+\u001b[0m \u001b[0my\u001b[0m \u001b[0;34m+\u001b[0m \u001b[0msample_weights\u001b[0m\u001b[0;34m\u001b[0m\u001b[0m\n\u001b[1;32m   1196\u001b[0m         \u001b[0mself\u001b[0m\u001b[0;34m.\u001b[0m\u001b[0m_make_train_function\u001b[0m\u001b[0;34m(\u001b[0m\u001b[0;34m)\u001b[0m\u001b[0;34m\u001b[0m\u001b[0m\n\u001b[0;32m-> 1197\u001b[0;31m         \u001b[0moutputs\u001b[0m \u001b[0;34m=\u001b[0m \u001b[0mself\u001b[0m\u001b[0;34m.\u001b[0m\u001b[0mtrain_function\u001b[0m\u001b[0;34m(\u001b[0m\u001b[0mins\u001b[0m\u001b[0;34m)\u001b[0m\u001b[0;34m\u001b[0m\u001b[0m\n\u001b[0m\u001b[1;32m   1198\u001b[0m         \u001b[0;32mif\u001b[0m \u001b[0mlen\u001b[0m\u001b[0;34m(\u001b[0m\u001b[0moutputs\u001b[0m\u001b[0;34m)\u001b[0m \u001b[0;34m==\u001b[0m \u001b[0;36m1\u001b[0m\u001b[0;34m:\u001b[0m\u001b[0;34m\u001b[0m\u001b[0m\n\u001b[1;32m   1199\u001b[0m             \u001b[0;32mreturn\u001b[0m \u001b[0moutputs\u001b[0m\u001b[0;34m[\u001b[0m\u001b[0;36m0\u001b[0m\u001b[0;34m]\u001b[0m\u001b[0;34m\u001b[0m\u001b[0m\n",
      "\u001b[0;32m/Users/giancarlokerg/anaconda/lib/python3.5/site-packages/Keras-1.0.5-py3.5.egg/keras/backend/theano_backend.py\u001b[0m in \u001b[0;36m__call__\u001b[0;34m(self, inputs)\u001b[0m\n\u001b[1;32m    529\u001b[0m     \u001b[0;32mdef\u001b[0m \u001b[0m__call__\u001b[0m\u001b[0;34m(\u001b[0m\u001b[0mself\u001b[0m\u001b[0;34m,\u001b[0m \u001b[0minputs\u001b[0m\u001b[0;34m)\u001b[0m\u001b[0;34m:\u001b[0m\u001b[0;34m\u001b[0m\u001b[0m\n\u001b[1;32m    530\u001b[0m         \u001b[0;32massert\u001b[0m \u001b[0mtype\u001b[0m\u001b[0;34m(\u001b[0m\u001b[0minputs\u001b[0m\u001b[0;34m)\u001b[0m \u001b[0;32min\u001b[0m \u001b[0;34m{\u001b[0m\u001b[0mlist\u001b[0m\u001b[0;34m,\u001b[0m \u001b[0mtuple\u001b[0m\u001b[0;34m}\u001b[0m\u001b[0;34m\u001b[0m\u001b[0m\n\u001b[0;32m--> 531\u001b[0;31m         \u001b[0;32mreturn\u001b[0m \u001b[0mself\u001b[0m\u001b[0;34m.\u001b[0m\u001b[0mfunction\u001b[0m\u001b[0;34m(\u001b[0m\u001b[0;34m*\u001b[0m\u001b[0minputs\u001b[0m\u001b[0;34m)\u001b[0m\u001b[0;34m\u001b[0m\u001b[0m\n\u001b[0m\u001b[1;32m    532\u001b[0m \u001b[0;34m\u001b[0m\u001b[0m\n\u001b[1;32m    533\u001b[0m \u001b[0;34m\u001b[0m\u001b[0m\n",
      "\u001b[0;32m/Users/giancarlokerg/anaconda/lib/python3.5/site-packages/Theano-0.8.2-py3.5.egg/theano/compile/function_module.py\u001b[0m in \u001b[0;36m__call__\u001b[0;34m(self, *args, **kwargs)\u001b[0m\n\u001b[1;32m    857\u001b[0m         \u001b[0mt0_fn\u001b[0m \u001b[0;34m=\u001b[0m \u001b[0mtime\u001b[0m\u001b[0;34m.\u001b[0m\u001b[0mtime\u001b[0m\u001b[0;34m(\u001b[0m\u001b[0;34m)\u001b[0m\u001b[0;34m\u001b[0m\u001b[0m\n\u001b[1;32m    858\u001b[0m         \u001b[0;32mtry\u001b[0m\u001b[0;34m:\u001b[0m\u001b[0;34m\u001b[0m\u001b[0m\n\u001b[0;32m--> 859\u001b[0;31m             \u001b[0moutputs\u001b[0m \u001b[0;34m=\u001b[0m \u001b[0mself\u001b[0m\u001b[0;34m.\u001b[0m\u001b[0mfn\u001b[0m\u001b[0;34m(\u001b[0m\u001b[0;34m)\u001b[0m\u001b[0;34m\u001b[0m\u001b[0m\n\u001b[0m\u001b[1;32m    860\u001b[0m         \u001b[0;32mexcept\u001b[0m \u001b[0mException\u001b[0m\u001b[0;34m:\u001b[0m\u001b[0;34m\u001b[0m\u001b[0m\n\u001b[1;32m    861\u001b[0m             \u001b[0;32mif\u001b[0m \u001b[0mhasattr\u001b[0m\u001b[0;34m(\u001b[0m\u001b[0mself\u001b[0m\u001b[0;34m.\u001b[0m\u001b[0mfn\u001b[0m\u001b[0;34m,\u001b[0m \u001b[0;34m'position_of_error'\u001b[0m\u001b[0;34m)\u001b[0m\u001b[0;34m:\u001b[0m\u001b[0;34m\u001b[0m\u001b[0m\n",
      "\u001b[0;31mKeyboardInterrupt\u001b[0m: "
     ]
    }
   ],
   "source": [
    "batch_size = 16\n",
    "n_epochs = 100\n",
    "epoch = 0\n",
    "for epoch in range(n_epochs):\n",
    "    for batch_idx in range(len(X_train) // batch_size):   \n",
    "        model.train_on_batch(X_train[batch_idx * batch_size:(batch_idx + 1) * batch_size], \n",
    "                             Y_train[batch_idx * batch_size:(batch_idx + 1) * batch_size])\n",
    "    train_pred = model.predict(X_train)\n",
    "    test_pred = model.predict(X_test)\n",
    "    print(epoch, batch_idx, roc_auc_score(measured_affinity_less_than_500(Y_train),train_pred), \n",
    "          roc_auc_score(measured_affinity_less_than_500(Y_test),test_pred))"
   ]
  },
  {
   "cell_type": "code",
   "execution_count": 11,
   "metadata": {
    "collapsed": false
   },
   "outputs": [
    {
     "ename": "ImportError",
     "evalue": "No module named 'pydot'",
     "output_type": "error",
     "traceback": [
      "\u001b[0;31m---------------------------------------------------------------------------\u001b[0m",
      "\u001b[0;31mImportError\u001b[0m                               Traceback (most recent call last)",
      "\u001b[0;32m/Users/giancarlokerg/anaconda/lib/python3.5/site-packages/Keras-1.0.5-py3.5.egg/keras/utils/visualize_util.py\u001b[0m in \u001b[0;36m<module>\u001b[0;34m()\u001b[0m\n\u001b[1;32m      2\u001b[0m     \u001b[0;31m# pydot-ng is a fork of pydot that is better maintained\u001b[0m\u001b[0;34m\u001b[0m\u001b[0;34m\u001b[0m\u001b[0m\n\u001b[0;32m----> 3\u001b[0;31m     \u001b[0;32mimport\u001b[0m \u001b[0mpydot_ng\u001b[0m \u001b[0;32mas\u001b[0m \u001b[0mpydot\u001b[0m\u001b[0;34m\u001b[0m\u001b[0m\n\u001b[0m\u001b[1;32m      4\u001b[0m \u001b[0;32mexcept\u001b[0m \u001b[0mImportError\u001b[0m\u001b[0;34m:\u001b[0m\u001b[0;34m\u001b[0m\u001b[0m\n",
      "\u001b[0;31mImportError\u001b[0m: No module named 'pydot_ng'",
      "\nDuring handling of the above exception, another exception occurred:\n",
      "\u001b[0;31mImportError\u001b[0m                               Traceback (most recent call last)",
      "\u001b[0;32m<ipython-input-11-814063956495>\u001b[0m in \u001b[0;36m<module>\u001b[0;34m()\u001b[0m\n\u001b[1;32m      1\u001b[0m \u001b[0;32mfrom\u001b[0m \u001b[0mIPython\u001b[0m\u001b[0;34m.\u001b[0m\u001b[0mdisplay\u001b[0m \u001b[0;32mimport\u001b[0m \u001b[0mSVG\u001b[0m\u001b[0;34m\u001b[0m\u001b[0m\n\u001b[0;32m----> 2\u001b[0;31m \u001b[0;32mfrom\u001b[0m \u001b[0mkeras\u001b[0m\u001b[0;34m.\u001b[0m\u001b[0mutils\u001b[0m\u001b[0;34m.\u001b[0m\u001b[0mvisualize_util\u001b[0m \u001b[0;32mimport\u001b[0m \u001b[0mmodel_to_dot\u001b[0m\u001b[0;34m\u001b[0m\u001b[0m\n\u001b[0m\u001b[1;32m      3\u001b[0m \u001b[0mplot\u001b[0m\u001b[0;34m(\u001b[0m\u001b[0mmodel\u001b[0m\u001b[0;34m,\u001b[0m \u001b[0mto_file\u001b[0m\u001b[0;34m=\u001b[0m\u001b[0;34m'model.png'\u001b[0m\u001b[0;34m)\u001b[0m\u001b[0;34m\u001b[0m\u001b[0m\n",
      "\u001b[0;32m/Users/giancarlokerg/anaconda/lib/python3.5/site-packages/Keras-1.0.5-py3.5.egg/keras/utils/visualize_util.py\u001b[0m in \u001b[0;36m<module>\u001b[0;34m()\u001b[0m\n\u001b[1;32m      4\u001b[0m \u001b[0;32mexcept\u001b[0m \u001b[0mImportError\u001b[0m\u001b[0;34m:\u001b[0m\u001b[0;34m\u001b[0m\u001b[0m\n\u001b[1;32m      5\u001b[0m     \u001b[0;31m# fall back on pydot if necessary\u001b[0m\u001b[0;34m\u001b[0m\u001b[0;34m\u001b[0m\u001b[0m\n\u001b[0;32m----> 6\u001b[0;31m     \u001b[0;32mimport\u001b[0m \u001b[0mpydot\u001b[0m\u001b[0;34m\u001b[0m\u001b[0m\n\u001b[0m\u001b[1;32m      7\u001b[0m \u001b[0;32mif\u001b[0m \u001b[0;32mnot\u001b[0m \u001b[0mpydot\u001b[0m\u001b[0;34m.\u001b[0m\u001b[0mfind_graphviz\u001b[0m\u001b[0;34m(\u001b[0m\u001b[0;34m)\u001b[0m\u001b[0;34m:\u001b[0m\u001b[0;34m\u001b[0m\u001b[0m\n\u001b[1;32m      8\u001b[0m     raise RuntimeError('Failed to import pydot. You must install pydot'\n",
      "\u001b[0;31mImportError\u001b[0m: No module named 'pydot'"
     ]
    }
   ],
   "source": [
    "from IPython.display import SVG\n",
    "from keras.utils.visualize_util import model_to_dot\n",
    "plot(model, to_file='model.png')"
   ]
  },
  {
   "cell_type": "code",
   "execution_count": null,
   "metadata": {
    "collapsed": true
   },
   "outputs": [],
   "source": [
    "SVG(model_to_dot(model).create(prog='dot', format='svg'))"
   ]
  }
 ],
 "metadata": {
  "anaconda-cloud": {},
  "kernelspec": {
   "display_name": "Python [Root]",
   "language": "python",
   "name": "Python [Root]"
  },
  "language_info": {
   "codemirror_mode": {
    "name": "ipython",
    "version": 3
   },
   "file_extension": ".py",
   "mimetype": "text/x-python",
   "name": "python",
   "nbconvert_exporter": "python",
   "pygments_lexer": "ipython3",
   "version": "3.5.1"
  }
 },
 "nbformat": 4,
 "nbformat_minor": 0
}
