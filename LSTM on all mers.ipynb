{
 "cells": [
  {
   "cell_type": "code",
   "execution_count": 1,
   "metadata": {
    "collapsed": false
   },
   "outputs": [
    {
     "name": "stderr",
     "output_type": "stream",
     "text": [
      "Using Theano backend.\n"
     ]
    }
   ],
   "source": [
    "import pandas as pd\n",
    "import sklearn \n",
    "import scipy\n",
    "from sklearn import linear_model as lm\n",
    "from sklearn.linear_model import LinearRegression\n",
    "from sklearn.preprocessing import StandardScaler\n",
    "from sklearn.decomposition import PCA\n",
    "from sklearn.cross_validation import KFold, train_test_split, cross_val_score, StratifiedKFold, LabelKFold, ShuffleSplit\n",
    "from sklearn.metrics import roc_auc_score\n",
    "from sklearn.svm import SVR\n",
    "from sklearn.ensemble import GradientBoostingRegressor\n",
    "from mhcflurry.amino_acid import common_amino_acids\n",
    "import matplotlib.pyplot as plt \n",
    "% matplotlib inline\n",
    "import numpy as np\n",
    "import math \n",
    "from mhcflurry import peptide_encoding, amino_acid\n",
    "from mhcflurry.amino_acid import common_amino_acids\n",
    "import statsmodels.api as sm\n",
    "from keras import models, layers, optimizers\n",
    "from keras.models import Sequential\n",
    "from keras.layers import Dense, Dropout, Embedding, LSTM, Input, merge, Convolution1D, AveragePooling1D, Activation, Flatten\n",
    "from keras.preprocessing import sequence\n",
    "from keras.models import Model\n",
    "from keras.engine import topology\n",
    "import seaborn as sns"
   ]
  },
  {
   "cell_type": "code",
   "execution_count": 2,
   "metadata": {
    "collapsed": false
   },
   "outputs": [
    {
     "data": {
      "text/html": [
       "<div>\n",
       "<table border=\"1\" class=\"dataframe\">\n",
       "  <thead>\n",
       "    <tr style=\"text-align: right;\">\n",
       "      <th></th>\n",
       "      <th>species</th>\n",
       "      <th>mhc</th>\n",
       "      <th>peptide_length</th>\n",
       "      <th>cv</th>\n",
       "      <th>sequence</th>\n",
       "      <th>inequality</th>\n",
       "      <th>meas</th>\n",
       "      <th>log_meas</th>\n",
       "      <th>hotshot_encoded_peptides</th>\n",
       "      <th>index_encoded_peptides</th>\n",
       "      <th>affinity_label</th>\n",
       "    </tr>\n",
       "  </thead>\n",
       "  <tbody>\n",
       "    <tr>\n",
       "      <th>11866</th>\n",
       "      <td>human</td>\n",
       "      <td>HLA-A-0201</td>\n",
       "      <td>10</td>\n",
       "      <td>TBD</td>\n",
       "      <td>ALIANIHNHM</td>\n",
       "      <td>=</td>\n",
       "      <td>118.438698</td>\n",
       "      <td>0.558734</td>\n",
       "      <td>[1, 0, 0, 0, 0, 0, 0, 0, 0, 0, 0, 0, 0, 0, 0, ...</td>\n",
       "      <td>[1, 10, 8, 1, 12, 8, 7, 12, 7, 11, 0, 0, 0, 0,...</td>\n",
       "      <td>3</td>\n",
       "    </tr>\n",
       "    <tr>\n",
       "      <th>130726</th>\n",
       "      <td>macaque</td>\n",
       "      <td>Mamu-B-03</td>\n",
       "      <td>10</td>\n",
       "      <td>TBD</td>\n",
       "      <td>RWILAIPRRI</td>\n",
       "      <td>=</td>\n",
       "      <td>2225.199939</td>\n",
       "      <td>0.287638</td>\n",
       "      <td>[0, 0, 0, 0, 0, 0, 0, 0, 0, 0, 0, 0, 0, 0, 1, ...</td>\n",
       "      <td>[15, 19, 8, 10, 1, 8, 13, 15, 15, 8, 0, 0, 0, ...</td>\n",
       "      <td>2</td>\n",
       "    </tr>\n",
       "    <tr>\n",
       "      <th>28356</th>\n",
       "      <td>human</td>\n",
       "      <td>HLA-A-0203</td>\n",
       "      <td>9</td>\n",
       "      <td>TBD</td>\n",
       "      <td>ILQMREIIT</td>\n",
       "      <td>=</td>\n",
       "      <td>1340.716376</td>\n",
       "      <td>0.334463</td>\n",
       "      <td>[0, 0, 0, 0, 0, 0, 0, 1, 0, 0, 0, 0, 0, 0, 0, ...</td>\n",
       "      <td>[8, 10, 14, 11, 15, 4, 8, 8, 17, 0, 0, 0, 0, 0...</td>\n",
       "      <td>2</td>\n",
       "    </tr>\n",
       "    <tr>\n",
       "      <th>53988</th>\n",
       "      <td>human</td>\n",
       "      <td>HLA-A-2402</td>\n",
       "      <td>10</td>\n",
       "      <td>TBD</td>\n",
       "      <td>LTNSVIIMAY</td>\n",
       "      <td>&gt;</td>\n",
       "      <td>70312.500000</td>\n",
       "      <td>-0.031510</td>\n",
       "      <td>[0, 0, 0, 0, 0, 0, 0, 0, 0, 1, 0, 0, 0, 0, 0, ...</td>\n",
       "      <td>[10, 17, 12, 16, 18, 8, 8, 11, 1, 20, 0, 0, 0,...</td>\n",
       "      <td>0</td>\n",
       "    </tr>\n",
       "    <tr>\n",
       "      <th>112721</th>\n",
       "      <td>human</td>\n",
       "      <td>HLA-B-4403</td>\n",
       "      <td>9</td>\n",
       "      <td>TBD</td>\n",
       "      <td>EELFYSYAT</td>\n",
       "      <td>=</td>\n",
       "      <td>168.643063</td>\n",
       "      <td>0.526073</td>\n",
       "      <td>[0, 0, 0, 1, 0, 0, 0, 0, 0, 0, 0, 0, 0, 0, 0, ...</td>\n",
       "      <td>[4, 4, 10, 5, 20, 16, 20, 1, 17, 0, 0, 0, 0, 0...</td>\n",
       "      <td>3</td>\n",
       "    </tr>\n",
       "    <tr>\n",
       "      <th>30108</th>\n",
       "      <td>human</td>\n",
       "      <td>HLA-A-0203</td>\n",
       "      <td>9</td>\n",
       "      <td>TBD</td>\n",
       "      <td>SYNNKEKKW</td>\n",
       "      <td>&gt;</td>\n",
       "      <td>70422.535211</td>\n",
       "      <td>-0.031654</td>\n",
       "      <td>[0, 0, 0, 0, 0, 0, 0, 0, 0, 0, 0, 0, 0, 0, 0, ...</td>\n",
       "      <td>[16, 20, 12, 12, 9, 4, 9, 9, 19, 0, 0, 0, 0, 0...</td>\n",
       "      <td>0</td>\n",
       "    </tr>\n",
       "    <tr>\n",
       "      <th>42644</th>\n",
       "      <td>human</td>\n",
       "      <td>HLA-A-0301</td>\n",
       "      <td>9</td>\n",
       "      <td>TBD</td>\n",
       "      <td>FHSRFVQAL</td>\n",
       "      <td>&gt;</td>\n",
       "      <td>20000.000000</td>\n",
       "      <td>0.084687</td>\n",
       "      <td>[0, 0, 0, 0, 1, 0, 0, 0, 0, 0, 0, 0, 0, 0, 0, ...</td>\n",
       "      <td>[5, 7, 16, 15, 5, 18, 14, 1, 10, 0, 0, 0, 0, 0...</td>\n",
       "      <td>1</td>\n",
       "    </tr>\n",
       "    <tr>\n",
       "      <th>37630</th>\n",
       "      <td>human</td>\n",
       "      <td>HLA-A-0212</td>\n",
       "      <td>9</td>\n",
       "      <td>TBD</td>\n",
       "      <td>RRELSKEKL</td>\n",
       "      <td>&gt;</td>\n",
       "      <td>20000.000000</td>\n",
       "      <td>0.084687</td>\n",
       "      <td>[0, 0, 0, 0, 0, 0, 0, 0, 0, 0, 0, 0, 0, 0, 1, ...</td>\n",
       "      <td>[15, 15, 4, 10, 16, 9, 4, 9, 10, 0, 0, 0, 0, 0...</td>\n",
       "      <td>1</td>\n",
       "    </tr>\n",
       "    <tr>\n",
       "      <th>24489</th>\n",
       "      <td>human</td>\n",
       "      <td>HLA-A-0202</td>\n",
       "      <td>9</td>\n",
       "      <td>TBD</td>\n",
       "      <td>PIPMSRLFM</td>\n",
       "      <td>=</td>\n",
       "      <td>3892.133686</td>\n",
       "      <td>0.235963</td>\n",
       "      <td>[0, 0, 0, 0, 0, 0, 0, 0, 0, 0, 0, 0, 1, 0, 0, ...</td>\n",
       "      <td>[13, 8, 13, 11, 16, 15, 10, 5, 11, 0, 0, 0, 0,...</td>\n",
       "      <td>2</td>\n",
       "    </tr>\n",
       "    <tr>\n",
       "      <th>77573</th>\n",
       "      <td>human</td>\n",
       "      <td>HLA-A-6801</td>\n",
       "      <td>9</td>\n",
       "      <td>TBD</td>\n",
       "      <td>GMQFDKVYL</td>\n",
       "      <td>&gt;</td>\n",
       "      <td>77669.902913</td>\n",
       "      <td>-0.040707</td>\n",
       "      <td>[0, 0, 0, 0, 0, 1, 0, 0, 0, 0, 0, 0, 0, 0, 0, ...</td>\n",
       "      <td>[6, 11, 14, 5, 3, 9, 18, 20, 10, 0, 0, 0, 0, 0...</td>\n",
       "      <td>0</td>\n",
       "    </tr>\n",
       "  </tbody>\n",
       "</table>\n",
       "</div>"
      ],
      "text/plain": [
       "        species         mhc  peptide_length   cv    sequence inequality  \\\n",
       "11866     human  HLA-A-0201              10  TBD  ALIANIHNHM          =   \n",
       "130726  macaque   Mamu-B-03              10  TBD  RWILAIPRRI          =   \n",
       "28356     human  HLA-A-0203               9  TBD   ILQMREIIT          =   \n",
       "53988     human  HLA-A-2402              10  TBD  LTNSVIIMAY          >   \n",
       "112721    human  HLA-B-4403               9  TBD   EELFYSYAT          =   \n",
       "30108     human  HLA-A-0203               9  TBD   SYNNKEKKW          >   \n",
       "42644     human  HLA-A-0301               9  TBD   FHSRFVQAL          >   \n",
       "37630     human  HLA-A-0212               9  TBD   RRELSKEKL          >   \n",
       "24489     human  HLA-A-0202               9  TBD   PIPMSRLFM          =   \n",
       "77573     human  HLA-A-6801               9  TBD   GMQFDKVYL          >   \n",
       "\n",
       "                meas  log_meas  \\\n",
       "11866     118.438698  0.558734   \n",
       "130726   2225.199939  0.287638   \n",
       "28356    1340.716376  0.334463   \n",
       "53988   70312.500000 -0.031510   \n",
       "112721    168.643063  0.526073   \n",
       "30108   70422.535211 -0.031654   \n",
       "42644   20000.000000  0.084687   \n",
       "37630   20000.000000  0.084687   \n",
       "24489    3892.133686  0.235963   \n",
       "77573   77669.902913 -0.040707   \n",
       "\n",
       "                                 hotshot_encoded_peptides  \\\n",
       "11866   [1, 0, 0, 0, 0, 0, 0, 0, 0, 0, 0, 0, 0, 0, 0, ...   \n",
       "130726  [0, 0, 0, 0, 0, 0, 0, 0, 0, 0, 0, 0, 0, 0, 1, ...   \n",
       "28356   [0, 0, 0, 0, 0, 0, 0, 1, 0, 0, 0, 0, 0, 0, 0, ...   \n",
       "53988   [0, 0, 0, 0, 0, 0, 0, 0, 0, 1, 0, 0, 0, 0, 0, ...   \n",
       "112721  [0, 0, 0, 1, 0, 0, 0, 0, 0, 0, 0, 0, 0, 0, 0, ...   \n",
       "30108   [0, 0, 0, 0, 0, 0, 0, 0, 0, 0, 0, 0, 0, 0, 0, ...   \n",
       "42644   [0, 0, 0, 0, 1, 0, 0, 0, 0, 0, 0, 0, 0, 0, 0, ...   \n",
       "37630   [0, 0, 0, 0, 0, 0, 0, 0, 0, 0, 0, 0, 0, 0, 1, ...   \n",
       "24489   [0, 0, 0, 0, 0, 0, 0, 0, 0, 0, 0, 0, 1, 0, 0, ...   \n",
       "77573   [0, 0, 0, 0, 0, 1, 0, 0, 0, 0, 0, 0, 0, 0, 0, ...   \n",
       "\n",
       "                                   index_encoded_peptides  affinity_label  \n",
       "11866   [1, 10, 8, 1, 12, 8, 7, 12, 7, 11, 0, 0, 0, 0,...               3  \n",
       "130726  [15, 19, 8, 10, 1, 8, 13, 15, 15, 8, 0, 0, 0, ...               2  \n",
       "28356   [8, 10, 14, 11, 15, 4, 8, 8, 17, 0, 0, 0, 0, 0...               2  \n",
       "53988   [10, 17, 12, 16, 18, 8, 8, 11, 1, 20, 0, 0, 0,...               0  \n",
       "112721  [4, 4, 10, 5, 20, 16, 20, 1, 17, 0, 0, 0, 0, 0...               3  \n",
       "30108   [16, 20, 12, 12, 9, 4, 9, 9, 19, 0, 0, 0, 0, 0...               0  \n",
       "42644   [5, 7, 16, 15, 5, 18, 14, 1, 10, 0, 0, 0, 0, 0...               1  \n",
       "37630   [15, 15, 4, 10, 16, 9, 4, 9, 10, 0, 0, 0, 0, 0...               1  \n",
       "24489   [13, 8, 13, 11, 16, 15, 10, 5, 11, 0, 0, 0, 0,...               2  \n",
       "77573   [6, 11, 14, 5, 3, 9, 18, 20, 10, 0, 0, 0, 0, 0...               0  "
      ]
     },
     "execution_count": 2,
     "metadata": {},
     "output_type": "execute_result"
    }
   ],
   "source": [
    "df = pd.read_table(\"bdata.2009.mhci.public.1.txt\")\n",
    "\n",
    "df['log_meas']=1-np.log(df['meas'])/math.log(50000)\n",
    "df['peptide_length'] = df['sequence'].str.len()\n",
    "\n",
    "\n",
    "max_len=df['sequence'].str.len().max()\n",
    "n_peptides = df['sequence'].count()\n",
    "\n",
    "def amino_acid_hotshot_encoding(s):\n",
    "    return common_amino_acids.hotshot_encoding([s],len(s)).flatten().astype(int)\n",
    "df['hotshot_encoded_peptides'] = df.sequence.apply(lambda seq: amino_acid_hotshot_encoding(seq))\n",
    "\n",
    "def amino_acid_index_encoding(s, maxlen):\n",
    "    a = 1+common_amino_acids.index_encoding([s],len(s)).flatten()\n",
    "    return np.concatenate([a, np.zeros(maxlen-len(a),dtype=int)])\n",
    "df['index_encoded_peptides'] = df.sequence.apply(lambda seq: amino_acid_index_encoding(seq, max_len))\n",
    "\n",
    "def measured_affinity_less_than(Y,k):\n",
    "    IC50 = 50000**(1-Y)\n",
    "    return (IC50 < k).astype(int) \n",
    "\n",
    "def affinity_label(Y):\n",
    "    return measured_affinity_less_than(Y,50) + measured_affinity_less_than(Y,500) + measured_affinity_less_than(Y,5000) + measured_affinity_less_than(Y,50000)\n",
    "\n",
    "df['affinity_label'] = affinity_label(df['log_meas'])\n",
    "df = df.reindex(np.random.permutation(df.index))\n",
    "df.head(10)"
   ]
  },
  {
   "cell_type": "code",
   "execution_count": 14,
   "metadata": {
    "collapsed": true
   },
   "outputs": [],
   "source": [
    "df_h = df[df['mhc']=='HLA-A-0201'][['hotshot_encoded_peptides','index_encoded_peptides','log_meas','peptide_length']]"
   ]
  },
  {
   "cell_type": "code",
   "execution_count": 4,
   "metadata": {
    "collapsed": false
   },
   "outputs": [],
   "source": [
    "for i, (train_idx, test_idx) in enumerate(KFold(len(df_h),5))\n",
    "        "
   ]
  },
  {
   "cell_type": "code",
   "execution_count": 5,
   "metadata": {
    "collapsed": false
   },
   "outputs": [
    {
     "name": "stdout",
     "output_type": "stream",
     "text": [
      "[   0    1    2 ..., 7649 7650 7651] [7652 7653 7654 ..., 9562 9563 9564]\n"
     ]
    }
   ],
   "source": [
    "print(train_idx,test_idx)"
   ]
  },
  {
   "cell_type": "code",
   "execution_count": 6,
   "metadata": {
    "collapsed": false
   },
   "outputs": [],
   "source": [
    "X = np.array(list(df_h['index_encoded_peptides']))\n",
    "y = np.array(list(df_h['log_meas']))"
   ]
  },
  {
   "cell_type": "code",
   "execution_count": 7,
   "metadata": {
    "collapsed": false
   },
   "outputs": [
    {
     "data": {
      "text/plain": [
       "26"
      ]
     },
     "execution_count": 7,
     "metadata": {},
     "output_type": "execute_result"
    }
   ],
   "source": [
    "max_len"
   ]
  },
  {
   "cell_type": "code",
   "execution_count": 10,
   "metadata": {
    "collapsed": false
   },
   "outputs": [],
   "source": [
    "batch_size = 16\n",
    "epoch = 0\n",
    "n_epochs = 30\n",
    "hidden = 50\n",
    "dropout_probability = 0.25\n",
    "sequence = Input( shape= (26, ),dtype='int32')\n",
    "embedded = Embedding(input_dim = 21, input_length = 26, output_dim= 32, mask_zero = True)(sequence)\n",
    "forwards = LSTM(hidden)(embedded)\n",
    "backwards = LSTM(hidden, go_backwards=True)(embedded)\n",
    "\n",
    "merged = merge([forwards, backwards], mode = 'concat', concat_axis=-1)\n",
    "after_dp = Dropout(dropout_probability)(merged)\n",
    "output = Dense(1, activation = 'sigmoid')(after_dp)\n",
    "model = Model(input = sequence, output = output)\n",
    "\n",
    "\n",
    "#Compile the model\n",
    "model.compile(optimizer = 'adam', loss='mean_squared_error')\n",
    "            "
   ]
  },
  {
   "cell_type": "code",
   "execution_count": 11,
   "metadata": {
    "collapsed": false
   },
   "outputs": [
    {
     "name": "stdout",
     "output_type": "stream",
     "text": [
      "0.861921208672 0.861260757879\n",
      "0.892645158436 0.88812300511\n",
      "0.933246156408 0.926583117207\n",
      "0.941292697997 0.936023843489\n",
      "0.944964306726 0.939795436508\n",
      "0.948265073228 0.94138887584\n",
      "0.949648365003 0.94410724131\n",
      "0.951460580863 0.946467113835\n",
      "0.953489965644 0.948111236652\n",
      "0.95417449631 0.948086513001\n",
      "0.956167222234 0.949509359138\n",
      "0.957214783852 0.950279500879\n",
      "0.958081062012 0.950029792\n",
      "0.959395057721 0.950887702703\n",
      "0.960512611459 0.950241179219\n",
      "0.961278657809 0.950393229675\n",
      "0.962151045779 0.950951984197\n",
      "0.963625133961 0.95132407515\n",
      "0.964092805065 0.950565059052\n",
      "0.965678648622 0.95061697872\n",
      "0.966761244969 0.950531682123\n",
      "0.967146549655 0.950120033327\n",
      "0.969161085278 0.949564987354\n",
      "0.970542520909 0.949463620383\n",
      "0.971965951811 0.947857819226\n",
      "0.973037875327 0.947982673665\n",
      "0.974286132581 0.948243508187\n",
      "0.974508483238 0.948117417565\n",
      "0.976056701196 0.946381817238\n",
      "0.978019071422 0.945515253257\n"
     ]
    }
   ],
   "source": [
    "train_aucs = []\n",
    "test_aucs = []\n",
    "for epoch in range(n_epochs):\n",
    "    for batch_idx in range(len(X[train_idx]) // batch_size):   \n",
    "        model.train_on_batch(X[train_idx][batch_idx * batch_size:(batch_idx + 1) * batch_size], y[train_idx][batch_idx * batch_size:(batch_idx + 1) * batch_size])\n",
    "    train_pred = model.predict(X[train_idx])\n",
    "    test_pred = model.predict(X[test_idx])\n",
    "    train_aucs.append(roc_auc_score(measured_affinity_less_than(y[train_idx],500),train_pred))\n",
    "    test_aucs.append(roc_auc_score(measured_affinity_less_than(y[test_idx],500),test_pred))\n",
    "    print(roc_auc_score(measured_affinity_less_than(y[train_idx],500),train_pred),roc_auc_score(measured_affinity_less_than(y[test_idx],500),test_pred))"
   ]
  },
  {
   "cell_type": "code",
   "execution_count": 13,
   "metadata": {
    "collapsed": false
   },
   "outputs": [
    {
     "data": {
      "text/plain": [
       "[<matplotlib.lines.Line2D at 0x13f7284e0>,\n",
       " <matplotlib.lines.Line2D at 0x13f7286d8>]"
      ]
     },
     "execution_count": 13,
     "metadata": {},
     "output_type": "execute_result"
    },
    {
     "data": {
      "image/png": "[encoded data removed]",
      "text/plain": [
       "<matplotlib.figure.Figure at 0x13f535d30>"
      ]
     },
     "metadata": {},
     "output_type": "display_data"
    }
   ],
   "source": [
    "plt.plot(np.arange(0,n_epochs-1,1), train_aucs[0:n_epochs-1], 'r-', np.arange(0,n_epochs-1,1), test_aucs[0:n_epochs-1],'b-')"
   ]
  },
  {
   "cell_type": "markdown",
   "metadata": {},
   "source": [
    "## Tested just on 9 mers"
   ]
  },
  {
   "cell_type": "code",
   "execution_count": 79,
   "metadata": {
    "collapsed": false
   },
   "outputs": [],
   "source": [
    "test_idx_9 = np.array([i for i in test_idx if np.count_nonzero(X[i]) == 9])"
   ]
  },
  {
   "cell_type": "code",
   "execution_count": 83,
   "metadata": {
    "collapsed": false
   },
   "outputs": [
    {
     "data": {
      "text/plain": [
       "525"
      ]
     },
     "execution_count": 83,
     "metadata": {},
     "output_type": "execute_result"
    }
   ],
   "source": [
    "len(test_idx)-len(test_idx_9)"
   ]
  },
  {
   "cell_type": "code",
   "execution_count": 85,
   "metadata": {
    "collapsed": false
   },
   "outputs": [
    {
     "data": {
      "text/plain": [
       "0.95512319801258849"
      ]
     },
     "execution_count": 85,
     "metadata": {},
     "output_type": "execute_result"
    }
   ],
   "source": [
    "roc_auc_score(measured_affinity_less_than(y[test_idx_9],500),model.predict(X[test_idx_9]))"
   ]
  },
  {
   "cell_type": "code",
   "execution_count": null,
   "metadata": {
    "collapsed": true
   },
   "outputs": [],
   "source": []
  }
 ],
 "metadata": {
  "anaconda-cloud": {},
  "kernelspec": {
   "display_name": "Python [Root]",
   "language": "python",
   "name": "Python [Root]"
  },
  "language_info": {
   "codemirror_mode": {
    "name": "ipython",
    "version": 3
   },
   "file_extension": ".py",
   "mimetype": "text/x-python",
   "name": "python",
   "nbconvert_exporter": "python",
   "pygments_lexer": "ipython3",
   "version": "3.5.1"
  }
 },
 "nbformat": 4,
 "nbformat_minor": 0
}
