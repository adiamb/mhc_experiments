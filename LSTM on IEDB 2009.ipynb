{
 "cells": [
  {
   "cell_type": "code",
   "execution_count": 25,
   "metadata": {
    "collapsed": false
   },
   "outputs": [],
   "source": [
    "import pandas as pd\n",
    "import sklearn \n",
    "from sklearn import linear_model as lm\n",
    "from sklearn.cross_validation import KFold, cross_val_score\n",
    "from sklearn.metrics import roc_auc_score\n",
    "import matplotlib.pyplot as plt\n",
    "import numpy as np\n",
    "import math \n",
    "from mhcflurry import peptide_encoding, amino_acid\n",
    "import statsmodels.api as sm\n",
    "from keras import models, layers, optimizers"
   ]
  },
  {
   "cell_type": "code",
   "execution_count": 26,
   "metadata": {
    "collapsed": false
   },
   "outputs": [],
   "source": [
    "df = pd.read_table(\"bdata.2009.mhci.public.1.txt\")\n",
    "df_h=df[df['mhc']=='HLA-A-0201'][['sequence','meas']]\n",
    "df_h['log_meas']=1-np.log(df_h['meas'])/math.log(50000)"
   ]
  },
  {
   "cell_type": "code",
   "execution_count": 27,
   "metadata": {
    "collapsed": false
   },
   "outputs": [
    {
     "data": {
      "text/html": [
       "<div>\n",
       "<table border=\"1\" class=\"dataframe\">\n",
       "  <thead>\n",
       "    <tr style=\"text-align: right;\">\n",
       "      <th></th>\n",
       "      <th>sequence</th>\n",
       "      <th>meas</th>\n",
       "      <th>log_meas</th>\n",
       "      <th>encoded_peptides</th>\n",
       "    </tr>\n",
       "  </thead>\n",
       "  <tbody>\n",
       "    <tr>\n",
       "      <th>11816</th>\n",
       "      <td>AAAKTPVIVV</td>\n",
       "      <td>44318.996782</td>\n",
       "      <td>0.011147</td>\n",
       "      <td>[0, 0, 0, 8, 16, 12, 17, 7, 17, 17, 0, 0, 0, 0...</td>\n",
       "    </tr>\n",
       "    <tr>\n",
       "      <th>11817</th>\n",
       "      <td>AAASSTHRKV</td>\n",
       "      <td>69444.444444</td>\n",
       "      <td>-0.030361</td>\n",
       "      <td>[0, 0, 0, 15, 15, 16, 6, 14, 8, 17, 0, 0, 0, 0...</td>\n",
       "    </tr>\n",
       "    <tr>\n",
       "      <th>11818</th>\n",
       "      <td>AACIVGCENV</td>\n",
       "      <td>28175.000000</td>\n",
       "      <td>0.053013</td>\n",
       "      <td>[0, 0, 1, 7, 17, 5, 1, 3, 11, 17, 0, 0, 0, 0, 0]</td>\n",
       "    </tr>\n",
       "    <tr>\n",
       "      <th>11819</th>\n",
       "      <td>AADLTQIFEV</td>\n",
       "      <td>16.529414</td>\n",
       "      <td>0.740739</td>\n",
       "      <td>[0, 0, 2, 9, 16, 13, 7, 4, 3, 17, 0, 0, 0, 0, 0]</td>\n",
       "    </tr>\n",
       "    <tr>\n",
       "      <th>11820</th>\n",
       "      <td>AAERGPGQML</td>\n",
       "      <td>2277.020021</td>\n",
       "      <td>0.285510</td>\n",
       "      <td>[0, 0, 3, 14, 5, 12, 5, 13, 10, 9, 0, 0, 0, 0, 0]</td>\n",
       "    </tr>\n",
       "    <tr>\n",
       "      <th>11821</th>\n",
       "      <td>AAGIGILTVI</td>\n",
       "      <td>5555.000000</td>\n",
       "      <td>0.203084</td>\n",
       "      <td>[0, 0, 5, 7, 5, 7, 9, 16, 17, 7, 0, 0, 0, 0, 0]</td>\n",
       "    </tr>\n",
       "    <tr>\n",
       "      <th>11822</th>\n",
       "      <td>AAGLQDCTML</td>\n",
       "      <td>50000.000000</td>\n",
       "      <td>0.000000</td>\n",
       "      <td>[0, 0, 5, 9, 13, 2, 1, 16, 10, 9, 0, 0, 0, 0, 0]</td>\n",
       "    </tr>\n",
       "    <tr>\n",
       "      <th>11823</th>\n",
       "      <td>AAITDAAVAV</td>\n",
       "      <td>5310.920858</td>\n",
       "      <td>0.207237</td>\n",
       "      <td>[0, 0, 7, 16, 2, 0, 0, 17, 0, 17, 0, 0, 0, 0, 0]</td>\n",
       "    </tr>\n",
       "    <tr>\n",
       "      <th>11824</th>\n",
       "      <td>AAITLVVISV</td>\n",
       "      <td>368.627244</td>\n",
       "      <td>0.453798</td>\n",
       "      <td>[0, 0, 7, 16, 9, 17, 17, 7, 15, 17, 0, 0, 0, 0...</td>\n",
       "    </tr>\n",
       "    <tr>\n",
       "      <th>11825</th>\n",
       "      <td>AANPHATFGV</td>\n",
       "      <td>2950.000000</td>\n",
       "      <td>0.261578</td>\n",
       "      <td>[0, 0, 11, 12, 6, 0, 16, 4, 5, 17, 0, 0, 0, 0, 0]</td>\n",
       "    </tr>\n",
       "  </tbody>\n",
       "</table>\n",
       "</div>"
      ],
      "text/plain": [
       "         sequence          meas  log_meas  \\\n",
       "11816  AAAKTPVIVV  44318.996782  0.011147   \n",
       "11817  AAASSTHRKV  69444.444444 -0.030361   \n",
       "11818  AACIVGCENV  28175.000000  0.053013   \n",
       "11819  AADLTQIFEV     16.529414  0.740739   \n",
       "11820  AAERGPGQML   2277.020021  0.285510   \n",
       "11821  AAGIGILTVI   5555.000000  0.203084   \n",
       "11822  AAGLQDCTML  50000.000000  0.000000   \n",
       "11823  AAITDAAVAV   5310.920858  0.207237   \n",
       "11824  AAITLVVISV    368.627244  0.453798   \n",
       "11825  AANPHATFGV   2950.000000  0.261578   \n",
       "\n",
       "                                        encoded_peptides  \n",
       "11816  [0, 0, 0, 8, 16, 12, 17, 7, 17, 17, 0, 0, 0, 0...  \n",
       "11817  [0, 0, 0, 15, 15, 16, 6, 14, 8, 17, 0, 0, 0, 0...  \n",
       "11818   [0, 0, 1, 7, 17, 5, 1, 3, 11, 17, 0, 0, 0, 0, 0]  \n",
       "11819   [0, 0, 2, 9, 16, 13, 7, 4, 3, 17, 0, 0, 0, 0, 0]  \n",
       "11820  [0, 0, 3, 14, 5, 12, 5, 13, 10, 9, 0, 0, 0, 0, 0]  \n",
       "11821    [0, 0, 5, 7, 5, 7, 9, 16, 17, 7, 0, 0, 0, 0, 0]  \n",
       "11822   [0, 0, 5, 9, 13, 2, 1, 16, 10, 9, 0, 0, 0, 0, 0]  \n",
       "11823   [0, 0, 7, 16, 2, 0, 0, 17, 0, 17, 0, 0, 0, 0, 0]  \n",
       "11824  [0, 0, 7, 16, 9, 17, 17, 7, 15, 17, 0, 0, 0, 0...  \n",
       "11825  [0, 0, 11, 12, 6, 0, 16, 4, 5, 17, 0, 0, 0, 0, 0]  "
      ]
     },
     "execution_count": 27,
     "metadata": {},
     "output_type": "execute_result"
    }
   ],
   "source": [
    "max_len=df_h['sequence'].str.len().max()\n",
    "n_peptides = df_h['sequence'].count()\n",
    "from mhcflurry.amino_acid import common_amino_acids\n",
    "df_h['encoded_peptides'] = list(common_amino_acids.index_encoding(df_h['sequence'],max_len))\n",
    "df_h.head(10)"
   ]
  },
  {
   "cell_type": "code",
   "execution_count": 28,
   "metadata": {
    "collapsed": false
   },
   "outputs": [
    {
     "data": {
      "text/plain": [
       "9565"
      ]
     },
     "execution_count": 28,
     "metadata": {},
     "output_type": "execute_result"
    }
   ],
   "source": [
    "len(df_h['encoded_peptides'])"
   ]
  },
  {
   "cell_type": "code",
   "execution_count": 19,
   "metadata": {
    "collapsed": false
   },
   "outputs": [
    {
     "data": {
      "text/plain": [
       "0.4256251898085073"
      ]
     },
     "execution_count": 19,
     "metadata": {},
     "output_type": "execute_result"
    }
   ],
   "source": [
    "1-math.log(500)/math.log(50000)"
   ]
  },
  {
   "cell_type": "code",
   "execution_count": 29,
   "metadata": {
    "collapsed": true
   },
   "outputs": [],
   "source": [
    "def measured_affinity_less_than_500(Y):\n",
    "    IC50 = 50000**(1-Y)\n",
    "    return IC50 < 500"
   ]
  },
  {
   "cell_type": "code",
   "execution_count": 38,
   "metadata": {
    "collapsed": false
   },
   "outputs": [],
   "source": [
    "arr = map(measured_affinity_less_than_500, pd.DataFrame(list(df_h['encoded_peptides'].iloc[test])).values)"
   ]
  },
  {
   "cell_type": "code",
   "execution_count": null,
   "metadata": {
    "collapsed": false
   },
   "outputs": [],
   "source": [
    "from keras.models import Sequential\n",
    "from keras.layers import Dense, Dropout, Embedding, LSTM, Input, merge\n",
    "from keras.preprocessing import sequence\n",
    "from keras.models import Model\n",
    "from keras.engine import topology\n",
    "folds = 5\n",
    "n_epochs = 100 \n",
    "train_aucs = np.zeros((folds,n_epochs))\n",
    "test_aucs = np.zeros((folds,n_epochs))\n",
    "\n",
    "for i, (train, test) in enumerate(KFold(len(df_h['encoded_peptides']),n_folds=folds, shuffle = True, random_state =0)):\n",
    "    # Read in the data\n",
    "    X_train = pd.DataFrame(list(df_h['encoded_peptides'].iloc[train])).values\n",
    "    Y_train = pd.DataFrame(list(df_h['log_meas'].iloc[train])).values\n",
    "    X_test = pd.DataFrame(list(df_h['encoded_peptides'].iloc[test])).values\n",
    "    Y_test = pd.DataFrame(list(df_h['log_meas'].iloc[test])).values\n",
    "\n",
    "    #Prepare the model \n",
    "    sequence = Input( shape= (max_len,), dtype='int32')\n",
    "    embedded = Embedding(21, 100)(sequence)\n",
    "\n",
    "    forwards = LSTM(64)(embedded)\n",
    "    backwards = LSTM(64, go_backwards=True)(embedded)\n",
    "\n",
    "    merged = merge([forwards, backwards], mode='concat', concat_axis=-1)\n",
    "    after_dp = Dropout(0.5)(merged)\n",
    "    output = Dense(1, activation='sigmoid')(after_dp)\n",
    "    model = Model(input=sequence, output=output)\n",
    "\n",
    "    #Compile the model\n",
    "    model.compile(optimizer = 'adam', loss='mean_squared_error')\n",
    "    batch_size = 16\n",
    "    epoch = 0\n",
    "    for epoch in range(n_epochs):\n",
    "        \n",
    "        for batch_idx in range(len(X_train) // batch_size):   \n",
    "            model.train_on_batch(X_train[batch_idx * batch_size:(batch_idx + 1) * batch_size], Y_train[batch_idx * batch_size:(batch_idx + 1) * batch_size])\n",
    "        train_pred = model.predict(X_train)\n",
    "        test_pred = model.predict(X_test)\n",
    "        train_auc[i][epoch] = roc_auc_score(measured_affinity_less_than_500(Y_train),train_pred)\n",
    "        test_auc[i][epoch] = roc_auc_score(measured_affinity_less_than_500(Y_test),test_pred)\n",
    "train_aucs_mean=np.mean(train_aucs, axis=0)\n",
    "test_aucs_mean = np.mean(test_aucs, axis=0)\n",
    "plt.plot(np.arange(0,n_epochs-1,1), train_aucs_mean[0:n_epochs-1], 'r.', np.arange(0,n_epochs-1,1), test_aucs_mean[0:n_epochs-1],'b.')\n",
    "plt.show()"
   ]
  },
  {
   "cell_type": "code",
   "execution_count": 43,
   "metadata": {
    "collapsed": true
   },
   "outputs": [],
   "source": [
    "import dis"
   ]
  },
  {
   "cell_type": "code",
   "execution_count": 45,
   "metadata": {
    "collapsed": false
   },
   "outputs": [
    {
     "name": "stdout",
     "output_type": "stream",
     "text": [
      "  2           0 LOAD_CONST               1 (50000)\n",
      "              3 LOAD_CONST               2 (1)\n",
      "              6 LOAD_FAST                0 (Y)\n",
      "              9 BINARY_SUBTRACT\n",
      "             10 BINARY_POWER\n",
      "             11 STORE_FAST               1 (IC50)\n",
      "\n",
      "  3          14 LOAD_FAST                1 (IC50)\n",
      "             17 LOAD_CONST               3 (500)\n",
      "             20 COMPARE_OP               0 (<)\n",
      "             23 RETURN_VALUE\n"
     ]
    }
   ],
   "source": [
    "dis.dis(measured_affinity_less_than_500)"
   ]
  },
  {
   "cell_type": "code",
   "execution_count": 67,
   "metadata": {
    "collapsed": true
   },
   "outputs": [],
   "source": [
    "class A(object):\n",
    "    def __init__(self):\n",
    "        self.x = 1\n",
    "    def __lt__(self, other):\n",
    "        return other is 3"
   ]
  },
  {
   "cell_type": "code",
   "execution_count": 68,
   "metadata": {
    "collapsed": false
   },
   "outputs": [
    {
     "data": {
      "text/plain": [
       "<__main__.A at 0x12e666d68>"
      ]
     },
     "execution_count": 68,
     "metadata": {},
     "output_type": "execute_result"
    }
   ],
   "source": [
    "A()"
   ]
  },
  {
   "cell_type": "code",
   "execution_count": 69,
   "metadata": {
    "collapsed": false
   },
   "outputs": [
    {
     "data": {
      "text/plain": [
       "{'x': 1}"
      ]
     },
     "execution_count": 69,
     "metadata": {},
     "output_type": "execute_result"
    }
   ],
   "source": [
    "A().__dict__"
   ]
  },
  {
   "cell_type": "code",
   "execution_count": 13,
   "metadata": {
    "collapsed": false
   },
   "outputs": [],
   "source": [
    "import matplotlib.pyplot as plt\n",
    "t = np.arange(0, 5 ,0.5)\n",
    "plt.plot(t, t, 'b.',t,t**2,'r.', t,t**3, 'g.')\n",
    "plt.axis([0, 6, 0, 20])\n",
    "plt.show()"
   ]
  },
  {
   "cell_type": "code",
   "execution_count": null,
   "metadata": {
    "collapsed": true
   },
   "outputs": [],
   "source": []
  }
 ],
 "metadata": {
  "anaconda-cloud": {},
  "kernelspec": {
   "display_name": "Python [Root]",
   "language": "python",
   "name": "Python [Root]"
  },
  "language_info": {
   "codemirror_mode": {
    "name": "ipython",
    "version": 3
   },
   "file_extension": ".py",
   "mimetype": "text/x-python",
   "name": "python",
   "nbconvert_exporter": "python",
   "pygments_lexer": "ipython3",
   "version": "3.5.1"
  }
 },
 "nbformat": 4,
 "nbformat_minor": 0
}
