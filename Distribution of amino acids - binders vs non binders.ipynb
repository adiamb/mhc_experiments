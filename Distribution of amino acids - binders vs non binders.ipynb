{
 "cells": [
  {
   "cell_type": "code",
   "execution_count": 39,
   "metadata": {
    "collapsed": false
   },
   "outputs": [],
   "source": [
    "import pandas as pd\n",
    "import sklearn \n",
    "import scipy\n",
    "from sklearn import linear_model as lm\n",
    "from sklearn.linear_model import LinearRegression\n",
    "from sklearn.cross_validation import KFold, cross_val_score, StratifiedKFold, LabelKFold, ShuffleSplit\n",
    "from sklearn.metrics import roc_auc_score\n",
    "from sklearn.preprocessing import StandardScaler\n",
    "from sklearn.decomposition import PCA\n",
    "from sklearn.svm import SVR\n",
    "from sklearn.ensemble import GradientBoostingRegressor\n",
    "import matplotlib.pyplot as plt \n",
    "% matplotlib inline\n",
    "import numpy as np\n",
    "import math \n",
    "from mhcflurry import peptide_encoding, amino_acid\n",
    "import statsmodels.api as sm\n",
    "from keras import models, layers, optimizers\n",
    "from keras.models import Sequential\n",
    "from keras.layers import Dense, Dropout, Embedding, LSTM, Input, merge, Convolution1D, AveragePooling1D, Activation, Flatten\n",
    "from keras.preprocessing import sequence\n",
    "from keras.models import Model\n",
    "from keras.engine import topology"
   ]
  },
  {
   "cell_type": "code",
   "execution_count": 40,
   "metadata": {
    "collapsed": false
   },
   "outputs": [
    {
     "data": {
      "text/html": [
       "<div>\n",
       "<table border=\"1\" class=\"dataframe\">\n",
       "  <thead>\n",
       "    <tr style=\"text-align: right;\">\n",
       "      <th></th>\n",
       "      <th>sequence</th>\n",
       "      <th>meas</th>\n",
       "      <th>log_meas</th>\n",
       "      <th>encoded_peptides</th>\n",
       "      <th>peptide_length</th>\n",
       "    </tr>\n",
       "  </thead>\n",
       "  <tbody>\n",
       "    <tr>\n",
       "      <th>14308</th>\n",
       "      <td>ALTGTEKL</td>\n",
       "      <td>50000.000000</td>\n",
       "      <td>0.000000</td>\n",
       "      <td>[1, 10, 17, 6, 17, 4, 9, 10, 0, 0, 0, 0, 0, 0, 0]</td>\n",
       "      <td>8</td>\n",
       "    </tr>\n",
       "    <tr>\n",
       "      <th>14467</th>\n",
       "      <td>ADAKAAAAV</td>\n",
       "      <td>10000.000000</td>\n",
       "      <td>0.148750</td>\n",
       "      <td>[1, 3, 1, 9, 1, 1, 1, 1, 18, 0, 0, 0, 0, 0, 0]</td>\n",
       "      <td>9</td>\n",
       "    </tr>\n",
       "    <tr>\n",
       "      <th>15757</th>\n",
       "      <td>FLDPATTTS</td>\n",
       "      <td>1781.000000</td>\n",
       "      <td>0.308218</td>\n",
       "      <td>[5, 10, 3, 13, 1, 17, 17, 17, 16, 0, 0, 0, 0, ...</td>\n",
       "      <td>9</td>\n",
       "    </tr>\n",
       "    <tr>\n",
       "      <th>20164</th>\n",
       "      <td>TKDAERGKL</td>\n",
       "      <td>20000.000000</td>\n",
       "      <td>0.084687</td>\n",
       "      <td>[17, 9, 3, 1, 4, 15, 6, 9, 10, 0, 0, 0, 0, 0, 0]</td>\n",
       "      <td>9</td>\n",
       "    </tr>\n",
       "    <tr>\n",
       "      <th>13644</th>\n",
       "      <td>SLVDKEDTDI</td>\n",
       "      <td>17194.419459</td>\n",
       "      <td>0.098656</td>\n",
       "      <td>[16, 10, 18, 3, 9, 4, 3, 17, 3, 8, 0, 0, 0, 0, 0]</td>\n",
       "      <td>10</td>\n",
       "    </tr>\n",
       "    <tr>\n",
       "      <th>21052</th>\n",
       "      <td>YLEPGPVTV</td>\n",
       "      <td>46.000000</td>\n",
       "      <td>0.646144</td>\n",
       "      <td>[20, 10, 4, 13, 6, 13, 18, 17, 18, 0, 0, 0, 0,...</td>\n",
       "      <td>9</td>\n",
       "    </tr>\n",
       "    <tr>\n",
       "      <th>20530</th>\n",
       "      <td>VLFTVLAIV</td>\n",
       "      <td>7.627695</td>\n",
       "      <td>0.812216</td>\n",
       "      <td>[18, 10, 5, 17, 18, 10, 1, 8, 18, 0, 0, 0, 0, ...</td>\n",
       "      <td>9</td>\n",
       "    </tr>\n",
       "    <tr>\n",
       "      <th>17111</th>\n",
       "      <td>ITDVQDMDP</td>\n",
       "      <td>20000.000000</td>\n",
       "      <td>0.084687</td>\n",
       "      <td>[8, 17, 3, 18, 14, 3, 11, 3, 13, 0, 0, 0, 0, 0...</td>\n",
       "      <td>9</td>\n",
       "    </tr>\n",
       "    <tr>\n",
       "      <th>18396</th>\n",
       "      <td>MMLAQAYYG</td>\n",
       "      <td>273.000000</td>\n",
       "      <td>0.481554</td>\n",
       "      <td>[11, 11, 10, 1, 14, 1, 20, 20, 6, 0, 0, 0, 0, ...</td>\n",
       "      <td>9</td>\n",
       "    </tr>\n",
       "    <tr>\n",
       "      <th>14514</th>\n",
       "      <td>AHSTIMPRL</td>\n",
       "      <td>20000.000000</td>\n",
       "      <td>0.084687</td>\n",
       "      <td>[1, 7, 16, 17, 8, 11, 13, 15, 10, 0, 0, 0, 0, ...</td>\n",
       "      <td>9</td>\n",
       "    </tr>\n",
       "  </tbody>\n",
       "</table>\n",
       "</div>"
      ],
      "text/plain": [
       "         sequence          meas  log_meas  \\\n",
       "14308    ALTGTEKL  50000.000000  0.000000   \n",
       "14467   ADAKAAAAV  10000.000000  0.148750   \n",
       "15757   FLDPATTTS   1781.000000  0.308218   \n",
       "20164   TKDAERGKL  20000.000000  0.084687   \n",
       "13644  SLVDKEDTDI  17194.419459  0.098656   \n",
       "21052   YLEPGPVTV     46.000000  0.646144   \n",
       "20530   VLFTVLAIV      7.627695  0.812216   \n",
       "17111   ITDVQDMDP  20000.000000  0.084687   \n",
       "18396   MMLAQAYYG    273.000000  0.481554   \n",
       "14514   AHSTIMPRL  20000.000000  0.084687   \n",
       "\n",
       "                                        encoded_peptides  peptide_length  \n",
       "14308  [1, 10, 17, 6, 17, 4, 9, 10, 0, 0, 0, 0, 0, 0, 0]               8  \n",
       "14467     [1, 3, 1, 9, 1, 1, 1, 1, 18, 0, 0, 0, 0, 0, 0]               9  \n",
       "15757  [5, 10, 3, 13, 1, 17, 17, 17, 16, 0, 0, 0, 0, ...               9  \n",
       "20164   [17, 9, 3, 1, 4, 15, 6, 9, 10, 0, 0, 0, 0, 0, 0]               9  \n",
       "13644  [16, 10, 18, 3, 9, 4, 3, 17, 3, 8, 0, 0, 0, 0, 0]              10  \n",
       "21052  [20, 10, 4, 13, 6, 13, 18, 17, 18, 0, 0, 0, 0,...               9  \n",
       "20530  [18, 10, 5, 17, 18, 10, 1, 8, 18, 0, 0, 0, 0, ...               9  \n",
       "17111  [8, 17, 3, 18, 14, 3, 11, 3, 13, 0, 0, 0, 0, 0...               9  \n",
       "18396  [11, 11, 10, 1, 14, 1, 20, 20, 6, 0, 0, 0, 0, ...               9  \n",
       "14514  [1, 7, 16, 17, 8, 11, 13, 15, 10, 0, 0, 0, 0, ...               9  "
      ]
     },
     "execution_count": 40,
     "metadata": {},
     "output_type": "execute_result"
    }
   ],
   "source": [
    "df = pd.read_table(\"bdata.2009.mhci.public.1.txt\")\n",
    "df_h = df[df['mhc']=='HLA-A-0201'][['sequence','meas']]\n",
    "df_h['log_meas']=1-np.log(df_h['meas'])/math.log(50000)\n",
    "max_len=df_h['sequence'].str.len().max()\n",
    "n_peptides = df_h['sequence'].count()\n",
    "from mhcflurry.amino_acid import common_amino_acids\n",
    "def amino_acid_encoding(s, maxlen):\n",
    "    a = 1+common_amino_acids.index_encoding([s],len(s)).flatten()\n",
    "    return np.concatenate([a, np.zeros(maxlen-len(a),dtype=int)])\n",
    "df_h['encoded_peptides'] = df_h.sequence.apply(lambda seq: amino_acid_encoding(seq, max_len))\n",
    "df_h['peptide_length'] = df_h['sequence'].str.len()\n",
    "df_all = df_h.reindex(np.random.permutation(df_h.index))\n",
    "df_all.head(10)"
   ]
  },
  {
   "cell_type": "code",
   "execution_count": 41,
   "metadata": {
    "collapsed": true
   },
   "outputs": [],
   "source": [
    "def measured_affinity_less_than(Y,k):\n",
    "    IC50 = 50000**(1-Y)\n",
    "    return (IC50 < k).astype(int) "
   ]
  },
  {
   "cell_type": "code",
   "execution_count": 42,
   "metadata": {
    "collapsed": true
   },
   "outputs": [],
   "source": [
    "def affinity_label(Y):\n",
    "    return measured_affinity_less_than(Y,50) + measured_affinity_less_than(Y,500) + measured_affinity_less_than(Y,5000) + measured_affinity_less_than(Y,50000) "
   ]
  },
  {
   "cell_type": "code",
   "execution_count": 43,
   "metadata": {
    "collapsed": false
   },
   "outputs": [
    {
     "data": {
      "text/html": [
       "<div>\n",
       "<table border=\"1\" class=\"dataframe\">\n",
       "  <thead>\n",
       "    <tr style=\"text-align: right;\">\n",
       "      <th></th>\n",
       "      <th>sequence</th>\n",
       "      <th>meas</th>\n",
       "      <th>log_meas</th>\n",
       "      <th>encoded_peptides</th>\n",
       "      <th>peptide_length</th>\n",
       "      <th>affinity_label</th>\n",
       "    </tr>\n",
       "  </thead>\n",
       "  <tbody>\n",
       "    <tr>\n",
       "      <th>14308</th>\n",
       "      <td>ALTGTEKL</td>\n",
       "      <td>50000.000000</td>\n",
       "      <td>0.000000</td>\n",
       "      <td>[1, 10, 17, 6, 17, 4, 9, 10, 0, 0, 0, 0, 0, 0, 0]</td>\n",
       "      <td>8</td>\n",
       "      <td>0</td>\n",
       "    </tr>\n",
       "    <tr>\n",
       "      <th>14467</th>\n",
       "      <td>ADAKAAAAV</td>\n",
       "      <td>10000.000000</td>\n",
       "      <td>0.148750</td>\n",
       "      <td>[1, 3, 1, 9, 1, 1, 1, 1, 18, 0, 0, 0, 0, 0, 0]</td>\n",
       "      <td>9</td>\n",
       "      <td>1</td>\n",
       "    </tr>\n",
       "    <tr>\n",
       "      <th>15757</th>\n",
       "      <td>FLDPATTTS</td>\n",
       "      <td>1781.000000</td>\n",
       "      <td>0.308218</td>\n",
       "      <td>[5, 10, 3, 13, 1, 17, 17, 17, 16, 0, 0, 0, 0, ...</td>\n",
       "      <td>9</td>\n",
       "      <td>2</td>\n",
       "    </tr>\n",
       "    <tr>\n",
       "      <th>20164</th>\n",
       "      <td>TKDAERGKL</td>\n",
       "      <td>20000.000000</td>\n",
       "      <td>0.084687</td>\n",
       "      <td>[17, 9, 3, 1, 4, 15, 6, 9, 10, 0, 0, 0, 0, 0, 0]</td>\n",
       "      <td>9</td>\n",
       "      <td>1</td>\n",
       "    </tr>\n",
       "    <tr>\n",
       "      <th>13644</th>\n",
       "      <td>SLVDKEDTDI</td>\n",
       "      <td>17194.419459</td>\n",
       "      <td>0.098656</td>\n",
       "      <td>[16, 10, 18, 3, 9, 4, 3, 17, 3, 8, 0, 0, 0, 0, 0]</td>\n",
       "      <td>10</td>\n",
       "      <td>1</td>\n",
       "    </tr>\n",
       "    <tr>\n",
       "      <th>21052</th>\n",
       "      <td>YLEPGPVTV</td>\n",
       "      <td>46.000000</td>\n",
       "      <td>0.646144</td>\n",
       "      <td>[20, 10, 4, 13, 6, 13, 18, 17, 18, 0, 0, 0, 0,...</td>\n",
       "      <td>9</td>\n",
       "      <td>4</td>\n",
       "    </tr>\n",
       "    <tr>\n",
       "      <th>20530</th>\n",
       "      <td>VLFTVLAIV</td>\n",
       "      <td>7.627695</td>\n",
       "      <td>0.812216</td>\n",
       "      <td>[18, 10, 5, 17, 18, 10, 1, 8, 18, 0, 0, 0, 0, ...</td>\n",
       "      <td>9</td>\n",
       "      <td>4</td>\n",
       "    </tr>\n",
       "    <tr>\n",
       "      <th>17111</th>\n",
       "      <td>ITDVQDMDP</td>\n",
       "      <td>20000.000000</td>\n",
       "      <td>0.084687</td>\n",
       "      <td>[8, 17, 3, 18, 14, 3, 11, 3, 13, 0, 0, 0, 0, 0...</td>\n",
       "      <td>9</td>\n",
       "      <td>1</td>\n",
       "    </tr>\n",
       "    <tr>\n",
       "      <th>18396</th>\n",
       "      <td>MMLAQAYYG</td>\n",
       "      <td>273.000000</td>\n",
       "      <td>0.481554</td>\n",
       "      <td>[11, 11, 10, 1, 14, 1, 20, 20, 6, 0, 0, 0, 0, ...</td>\n",
       "      <td>9</td>\n",
       "      <td>3</td>\n",
       "    </tr>\n",
       "    <tr>\n",
       "      <th>14514</th>\n",
       "      <td>AHSTIMPRL</td>\n",
       "      <td>20000.000000</td>\n",
       "      <td>0.084687</td>\n",
       "      <td>[1, 7, 16, 17, 8, 11, 13, 15, 10, 0, 0, 0, 0, ...</td>\n",
       "      <td>9</td>\n",
       "      <td>1</td>\n",
       "    </tr>\n",
       "  </tbody>\n",
       "</table>\n",
       "</div>"
      ],
      "text/plain": [
       "         sequence          meas  log_meas  \\\n",
       "14308    ALTGTEKL  50000.000000  0.000000   \n",
       "14467   ADAKAAAAV  10000.000000  0.148750   \n",
       "15757   FLDPATTTS   1781.000000  0.308218   \n",
       "20164   TKDAERGKL  20000.000000  0.084687   \n",
       "13644  SLVDKEDTDI  17194.419459  0.098656   \n",
       "21052   YLEPGPVTV     46.000000  0.646144   \n",
       "20530   VLFTVLAIV      7.627695  0.812216   \n",
       "17111   ITDVQDMDP  20000.000000  0.084687   \n",
       "18396   MMLAQAYYG    273.000000  0.481554   \n",
       "14514   AHSTIMPRL  20000.000000  0.084687   \n",
       "\n",
       "                                        encoded_peptides  peptide_length  \\\n",
       "14308  [1, 10, 17, 6, 17, 4, 9, 10, 0, 0, 0, 0, 0, 0, 0]               8   \n",
       "14467     [1, 3, 1, 9, 1, 1, 1, 1, 18, 0, 0, 0, 0, 0, 0]               9   \n",
       "15757  [5, 10, 3, 13, 1, 17, 17, 17, 16, 0, 0, 0, 0, ...               9   \n",
       "20164   [17, 9, 3, 1, 4, 15, 6, 9, 10, 0, 0, 0, 0, 0, 0]               9   \n",
       "13644  [16, 10, 18, 3, 9, 4, 3, 17, 3, 8, 0, 0, 0, 0, 0]              10   \n",
       "21052  [20, 10, 4, 13, 6, 13, 18, 17, 18, 0, 0, 0, 0,...               9   \n",
       "20530  [18, 10, 5, 17, 18, 10, 1, 8, 18, 0, 0, 0, 0, ...               9   \n",
       "17111  [8, 17, 3, 18, 14, 3, 11, 3, 13, 0, 0, 0, 0, 0...               9   \n",
       "18396  [11, 11, 10, 1, 14, 1, 20, 20, 6, 0, 0, 0, 0, ...               9   \n",
       "14514  [1, 7, 16, 17, 8, 11, 13, 15, 10, 0, 0, 0, 0, ...               9   \n",
       "\n",
       "       affinity_label  \n",
       "14308               0  \n",
       "14467               1  \n",
       "15757               2  \n",
       "20164               1  \n",
       "13644               1  \n",
       "21052               4  \n",
       "20530               4  \n",
       "17111               1  \n",
       "18396               3  \n",
       "14514               1  "
      ]
     },
     "execution_count": 43,
     "metadata": {},
     "output_type": "execute_result"
    }
   ],
   "source": [
    "df_all['affinity_label'] = affinity_label(df_all['log_meas'])\n",
    "df_all.head(10)"
   ]
  },
  {
   "cell_type": "markdown",
   "metadata": {},
   "source": [
    "## Distribution of affinity labels along all peptides"
   ]
  },
  {
   "cell_type": "code",
   "execution_count": 44,
   "metadata": {
    "collapsed": false
   },
   "outputs": [
    {
     "data": {
      "text/plain": [
       "([1380, 3530, 1505, 1439, 1711], 9565)"
      ]
     },
     "execution_count": 44,
     "metadata": {},
     "output_type": "execute_result"
    }
   ],
   "source": [
    "data = []\n",
    "for i in [0,1,2,3,4]:\n",
    "    data.append(df_all[df_all['affinity_label'] == i].affinity_label.count())\n",
    "data, np.asarray(data).sum()"
   ]
  },
  {
   "cell_type": "code",
   "execution_count": 45,
   "metadata": {
    "collapsed": false
   },
   "outputs": [
    {
     "data": {
      "text/plain": [
       "<matplotlib.axes._subplots.AxesSubplot at 0x11ae3ceb8>"
      ]
     },
     "execution_count": 45,
     "metadata": {},
     "output_type": "execute_result"
    },
    {
     "data": {
      "image/png": "[encoded data removed]",
      "text/plain": [
       "<matplotlib.figure.Figure at 0x119bb6668>"
      ]
     },
     "metadata": {},
     "output_type": "display_data"
    }
   ],
   "source": [
    "pd.Series(data/np.asarray(data).sum()).plot(kind='bar', rot= 45)"
   ]
  },
  {
   "cell_type": "code",
   "execution_count": 46,
   "metadata": {
    "collapsed": false
   },
   "outputs": [
    {
     "name": "stderr",
     "output_type": "stream",
     "text": [
      "/Users/giancarlokerg/anaconda/lib/python3.5/site-packages/ipykernel/__main__.py:6: UserWarning: Boolean Series key will be reindexed to match DataFrame index.\n",
      "/Users/giancarlokerg/anaconda/lib/python3.5/site-packages/ipykernel/__main__.py:8: UserWarning: Boolean Series key will be reindexed to match DataFrame index.\n",
      "/Users/giancarlokerg/anaconda/lib/python3.5/site-packages/ipykernel/__main__.py:10: UserWarning: Boolean Series key will be reindexed to match DataFrame index.\n",
      "/Users/giancarlokerg/anaconda/lib/python3.5/site-packages/ipykernel/__main__.py:12: UserWarning: Boolean Series key will be reindexed to match DataFrame index.\n"
     ]
    }
   ],
   "source": [
    "data_8 = []\n",
    "data_9 = []\n",
    "data_10 = []\n",
    "data_11 = []\n",
    "for i in [0,1,2,3,4]:\n",
    "    data_8.append(df_all[df_all['affinity_label']==i][df_all['peptide_length'] <=8].affinity_label.count())\n",
    "for i in [0,1,2,3,4]:\n",
    "    data_9.append(df_all[df_all['affinity_label']==i][df_all['peptide_length'] ==9].affinity_label.count())\n",
    "for i in [0,1,2,3,4]:\n",
    "    data_10.append(df_all[df_all['affinity_label']==i][df_all['peptide_length'] ==10].affinity_label.count())\n",
    "for i in [0,1,2,3,4]:\n",
    "    data_11.append(df_all[df_all['affinity_label']==i][df_all['peptide_length'] >=11].affinity_label.count())"
   ]
  },
  {
   "cell_type": "code",
   "execution_count": 47,
   "metadata": {
    "collapsed": false
   },
   "outputs": [
    {
     "data": {
      "text/html": [
       "<div>\n",
       "<table border=\"1\" class=\"dataframe\">\n",
       "  <thead>\n",
       "    <tr style=\"text-align: right;\">\n",
       "      <th></th>\n",
       "      <th>A</th>\n",
       "      <th>B</th>\n",
       "      <th>C</th>\n",
       "      <th>D</th>\n",
       "    </tr>\n",
       "  </thead>\n",
       "  <tbody>\n",
       "    <tr>\n",
       "      <th>0</th>\n",
       "      <td>0.416</td>\n",
       "      <td>0.141503</td>\n",
       "      <td>0.129457</td>\n",
       "      <td>0.308943</td>\n",
       "    </tr>\n",
       "    <tr>\n",
       "      <th>1</th>\n",
       "      <td>0.336</td>\n",
       "      <td>0.410430</td>\n",
       "      <td>0.252547</td>\n",
       "      <td>0.292683</td>\n",
       "    </tr>\n",
       "    <tr>\n",
       "      <th>2</th>\n",
       "      <td>0.176</td>\n",
       "      <td>0.132021</td>\n",
       "      <td>0.230475</td>\n",
       "      <td>0.170732</td>\n",
       "    </tr>\n",
       "    <tr>\n",
       "      <th>3</th>\n",
       "      <td>0.048</td>\n",
       "      <td>0.132309</td>\n",
       "      <td>0.211375</td>\n",
       "      <td>0.113821</td>\n",
       "    </tr>\n",
       "    <tr>\n",
       "      <th>4</th>\n",
       "      <td>0.024</td>\n",
       "      <td>0.183738</td>\n",
       "      <td>0.176146</td>\n",
       "      <td>0.113821</td>\n",
       "    </tr>\n",
       "  </tbody>\n",
       "</table>\n",
       "</div>"
      ],
      "text/plain": [
       "       A         B         C         D\n",
       "0  0.416  0.141503  0.129457  0.308943\n",
       "1  0.336  0.410430  0.252547  0.292683\n",
       "2  0.176  0.132021  0.230475  0.170732\n",
       "3  0.048  0.132309  0.211375  0.113821\n",
       "4  0.024  0.183738  0.176146  0.113821"
      ]
     },
     "execution_count": 47,
     "metadata": {},
     "output_type": "execute_result"
    }
   ],
   "source": [
    "matrix = pd.DataFrame({'A': data_8/np.asarray(data_8).sum(), 'B': data_9/np.asarray(data_9).sum(), 'C': data_10/np.asarray(data_10).sum(), 'D': data_11/np.asarray(data_11).sum()}, index = [0,1,2,3,4])\n",
    "matrix"
   ]
  },
  {
   "cell_type": "code",
   "execution_count": 33,
   "metadata": {
    "collapsed": false
   },
   "outputs": [
    {
     "data": {
      "text/plain": [
       "<matplotlib.axes._subplots.AxesSubplot at 0x11a94c630>"
      ]
     },
     "execution_count": 33,
     "metadata": {},
     "output_type": "execute_result"
    },
    {
     "data": {
      "image/png": "[encoded data removed]",
      "text/plain": [
       "<matplotlib.figure.Figure at 0x119bc16a0>"
      ]
     },
     "metadata": {},
     "output_type": "display_data"
    }
   ],
   "source": [
    "matrix.plot(kind='bar', alpha=0.5)"
   ]
  },
  {
   "cell_type": "markdown",
   "metadata": {},
   "source": [
    "A $\\leq 8$ mer, B = 9 mer, C = 10 mer, D $\\geq 11$ mer"
   ]
  },
  {
   "cell_type": "markdown",
   "metadata": {},
   "source": [
    "## Clustering strong binders "
   ]
  },
  {
   "cell_type": "code",
   "execution_count": null,
   "metadata": {
    "collapsed": true
   },
   "outputs": [],
   "source": [
    "df_all[df_all['affinity_label']==4]['encoded_peptides']"
   ]
  },
  {
   "cell_type": "code",
   "execution_count": 61,
   "metadata": {
    "collapsed": false
   },
   "outputs": [
    {
     "data": {
      "text/plain": [
       "Int64Index([21052, 20530, 13838, 17785, 14293, 13151, 17819, 17437, 13057,\n",
       "            17821,\n",
       "            ...\n",
       "            14704, 17960, 17650, 12617, 14898, 13809, 16889, 12323, 14915,\n",
       "            15930],\n",
       "           dtype='int64', length=1711)"
      ]
     },
     "execution_count": 61,
     "metadata": {},
     "output_type": "execute_result"
    }
   ],
   "source": [
    "df_all[df_all['affinity_label']==4]['encoded_peptides'].index"
   ]
  },
  {
   "cell_type": "code",
   "execution_count": 63,
   "metadata": {
    "collapsed": false
   },
   "outputs": [
    {
     "data": {
      "text/plain": [
       "array([20, 10,  4, 13,  6, 13, 18, 17, 18,  0,  0,  0,  0,  0,  0])"
      ]
     },
     "execution_count": 63,
     "metadata": {},
     "output_type": "execute_result"
    }
   ],
   "source": [
    "df_all[df_all['affinity_label']==4]['encoded_peptides'].iloc[0]"
   ]
  },
  {
   "cell_type": "code",
   "execution_count": 97,
   "metadata": {
    "collapsed": false
   },
   "outputs": [],
   "source": [
    "def amino_acid_count(X,i):\n",
    "    result = np.empty(21) \n",
    "    for j in range(len(X)):\n",
    "        result[X.iloc[j][i]] = result[X.iloc[j][i]] + 1\n",
    "    return np.array(result, dtype=int) \n"
   ]
  },
  {
   "cell_type": "code",
   "execution_count": 154,
   "metadata": {
    "collapsed": true
   },
   "outputs": [],
   "source": [
    "def amino_acid_distribution_per_position_plot(X,i,c):\n",
    "    return pd.Series(amino_acid_count(X,i)/amino_acid_count(X,i).sum()).plot(kind='bar',alpha=0.5, color= c)"
   ]
  },
  {
   "cell_type": "code",
   "execution_count": 182,
   "metadata": {
    "collapsed": false
   },
   "outputs": [
    {
     "data": {
      "text/plain": [
       "<matplotlib.axes._subplots.AxesSubplot at 0x12a8fdef0>"
      ]
     },
     "execution_count": 182,
     "metadata": {},
     "output_type": "execute_result"
    },
    {
     "data": {
      "image/png": "[encoded data removed]",
      "text/plain": [
       "<matplotlib.figure.Figure at 0x1281da748>"
      ]
     },
     "metadata": {},
     "output_type": "display_data"
    }
   ],
   "source": [
    "amino_acid_distribution_per_position_plot(df_all[df_all['affinity_label']< 3]['encoded_peptides'],0,'r')\n",
    "amino_acid_distribution_per_position_plot(df_all[df_all['affinity_label']>= 3]['encoded_peptides'],0,'b')"
   ]
  },
  {
   "cell_type": "code",
   "execution_count": 183,
   "metadata": {
    "collapsed": false
   },
   "outputs": [
    {
     "data": {
      "text/plain": [
       "<matplotlib.axes._subplots.AxesSubplot at 0x129a96f28>"
      ]
     },
     "execution_count": 183,
     "metadata": {},
     "output_type": "execute_result"
    },
    {
     "data": {
      "image/png": "[encoded data removed]",
      "text/plain": [
       "<matplotlib.figure.Figure at 0x12aa94550>"
      ]
     },
     "metadata": {},
     "output_type": "display_data"
    }
   ],
   "source": [
    "amino_acid_distribution_per_position_plot(df_all[df_all['affinity_label']< 3]['encoded_peptides'],1,'r')\n",
    "amino_acid_distribution_per_position_plot(df_all[df_all['affinity_label']>= 3]['encoded_peptides'],1,'b')"
   ]
  },
  {
   "cell_type": "code",
   "execution_count": 184,
   "metadata": {
    "collapsed": false
   },
   "outputs": [
    {
     "data": {
      "text/plain": [
       "<matplotlib.axes._subplots.AxesSubplot at 0x12ad36080>"
      ]
     },
     "execution_count": 184,
     "metadata": {},
     "output_type": "execute_result"
    },
    {
     "data": {
      "image/png": "[encoded data removed]",
      "text/plain": [
       "<matplotlib.figure.Figure at 0x12ad52358>"
      ]
     },
     "metadata": {},
     "output_type": "display_data"
    }
   ],
   "source": [
    "amino_acid_distribution_per_position_plot(df_all[df_all['affinity_label']< 3]['encoded_peptides'],2,'r')\n",
    "amino_acid_distribution_per_position_plot(df_all[df_all['affinity_label']>= 3]['encoded_peptides'],2,'b')"
   ]
  },
  {
   "cell_type": "code",
   "execution_count": 185,
   "metadata": {
    "collapsed": false
   },
   "outputs": [
    {
     "data": {
      "text/plain": [
       "<matplotlib.axes._subplots.AxesSubplot at 0x12b83c710>"
      ]
     },
     "execution_count": 185,
     "metadata": {},
     "output_type": "execute_result"
    },
    {
     "data": {
      "image/png": "[encoded data removed]",
      "text/plain": [
       "<matplotlib.figure.Figure at 0x12b84c780>"
      ]
     },
     "metadata": {},
     "output_type": "display_data"
    }
   ],
   "source": [
    "amino_acid_distribution_per_position_plot(df_all[df_all['affinity_label']< 3]['encoded_peptides'],3,'r')\n",
    "amino_acid_distribution_per_position_plot(df_all[df_all['affinity_label']>= 3]['encoded_peptides'],3,'b')"
   ]
  },
  {
   "cell_type": "code",
   "execution_count": 186,
   "metadata": {
    "collapsed": false
   },
   "outputs": [
    {
     "data": {
      "text/plain": [
       "<matplotlib.axes._subplots.AxesSubplot at 0x12b83c2b0>"
      ]
     },
     "execution_count": 186,
     "metadata": {},
     "output_type": "execute_result"
    },
    {
     "data": {
      "image/png": "[encoded data removed]",
      "text/plain": [
       "<matplotlib.figure.Figure at 0x12b9fb588>"
      ]
     },
     "metadata": {},
     "output_type": "display_data"
    }
   ],
   "source": [
    "amino_acid_distribution_per_position_plot(df_all[df_all['affinity_label']< 3]['encoded_peptides'],4,'r')\n",
    "amino_acid_distribution_per_position_plot(df_all[df_all['affinity_label']>= 3]['encoded_peptides'],4,'b')"
   ]
  },
  {
   "cell_type": "code",
   "execution_count": 187,
   "metadata": {
    "collapsed": false
   },
   "outputs": [
    {
     "data": {
      "text/plain": [
       "<matplotlib.axes._subplots.AxesSubplot at 0x12bc9a3c8>"
      ]
     },
     "execution_count": 187,
     "metadata": {},
     "output_type": "execute_result"
    },
    {
     "data": {
      "image/png": "[encoded data removed]",
      "text/plain": [
       "<matplotlib.figure.Figure at 0x12bcb2080>"
      ]
     },
     "metadata": {},
     "output_type": "display_data"
    }
   ],
   "source": [
    "amino_acid_distribution_per_position_plot(df_all[df_all['affinity_label']< 3]['encoded_peptides'],5,'r')\n",
    "amino_acid_distribution_per_position_plot(df_all[df_all['affinity_label']>= 3]['encoded_peptides'],5,'b')"
   ]
  },
  {
   "cell_type": "code",
   "execution_count": 188,
   "metadata": {
    "collapsed": false
   },
   "outputs": [
    {
     "data": {
      "text/plain": [
       "<matplotlib.axes._subplots.AxesSubplot at 0x12be43400>"
      ]
     },
     "execution_count": 188,
     "metadata": {},
     "output_type": "execute_result"
    },
    {
     "data": {
      "image/png": "[encoded data removed]",
      "text/plain": [
       "<matplotlib.figure.Figure at 0x12be5f710>"
      ]
     },
     "metadata": {},
     "output_type": "display_data"
    }
   ],
   "source": [
    "amino_acid_distribution_per_position_plot(df_all[df_all['affinity_label']< 3]['encoded_peptides'],6,'r')\n",
    "amino_acid_distribution_per_position_plot(df_all[df_all['affinity_label']>= 3]['encoded_peptides'],6,'b')"
   ]
  },
  {
   "cell_type": "code",
   "execution_count": 189,
   "metadata": {
    "collapsed": false
   },
   "outputs": [
    {
     "data": {
      "text/plain": [
       "<matplotlib.axes._subplots.AxesSubplot at 0x12c13e588>"
      ]
     },
     "execution_count": 189,
     "metadata": {},
     "output_type": "execute_result"
    },
    {
     "data": {
      "image/png": "[encoded data removed]",
      "text/plain": [
       "<matplotlib.figure.Figure at 0x12c13ba90>"
      ]
     },
     "metadata": {},
     "output_type": "display_data"
    }
   ],
   "source": [
    "amino_acid_distribution_per_position_plot(df_all[df_all['affinity_label']< 3]['encoded_peptides'],7,'r')\n",
    "amino_acid_distribution_per_position_plot(df_all[df_all['affinity_label']>= 3]['encoded_peptides'],7,'b')"
   ]
  },
  {
   "cell_type": "code",
   "execution_count": 190,
   "metadata": {
    "collapsed": false
   },
   "outputs": [
    {
     "data": {
      "text/plain": [
       "<matplotlib.axes._subplots.AxesSubplot at 0x12c2dcc18>"
      ]
     },
     "execution_count": 190,
     "metadata": {},
     "output_type": "execute_result"
    },
    {
     "data": {
      "image/png": "[encoded data removed]",
      "text/plain": [
       "<matplotlib.figure.Figure at 0x12c16df28>"
      ]
     },
     "metadata": {},
     "output_type": "display_data"
    }
   ],
   "source": [
    "amino_acid_distribution_per_position_plot(df_all[df_all['affinity_label']< 3]['encoded_peptides'],8,'r')\n",
    "amino_acid_distribution_per_position_plot(df_all[df_all['affinity_label']>= 3]['encoded_peptides'],8,'b')"
   ]
  }
 ],
 "metadata": {
  "kernelspec": {
   "display_name": "Python [Root]",
   "language": "python",
   "name": "Python [Root]"
  },
  "language_info": {
   "codemirror_mode": {
    "name": "ipython",
    "version": 3
   },
   "file_extension": ".py",
   "mimetype": "text/x-python",
   "name": "python",
   "nbconvert_exporter": "python",
   "pygments_lexer": "ipython3",
   "version": "3.5.1"
  }
 },
 "nbformat": 4,
 "nbformat_minor": 0
}
