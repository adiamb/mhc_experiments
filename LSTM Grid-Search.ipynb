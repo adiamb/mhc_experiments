{
 "cells": [
  {
   "cell_type": "code",
   "execution_count": 4,
   "metadata": {
    "collapsed": false
   },
   "outputs": [],
   "source": [
    "import pandas as pd\n",
    "import sklearn \n",
    "import scipy\n",
    "from sklearn import linear_model as lm\n",
    "from sklearn.linear_model import LinearRegression\n",
    "from sklearn.preprocessing import StandardScaler\n",
    "from sklearn.decomposition import PCA\n",
    "from sklearn.cross_validation import KFold, train_test_split, cross_val_score, StratifiedKFold, LabelKFold, ShuffleSplit\n",
    "from sklearn.metrics import roc_auc_score\n",
    "from sklearn.svm import SVR\n",
    "from sklearn.ensemble import GradientBoostingRegressor\n",
    "from mhcflurry.amino_acid import common_amino_acids\n",
    "import matplotlib.pyplot as plt \n",
    "% matplotlib inline\n",
    "import numpy as np\n",
    "import math \n",
    "from mhcflurry import peptide_encoding, amino_acid\n",
    "from mhcflurry.amino_acid import common_amino_acids\n",
    "import statsmodels.api as sm\n",
    "from keras import models, layers, optimizers\n",
    "from keras.models import Sequential\n",
    "from keras.layers import Dense, Dropout, Embedding, LSTM, Input, merge, Convolution1D, AveragePooling1D, Activation, Flatten\n",
    "from keras.preprocessing import sequence\n",
    "from keras.models import Model\n",
    "from keras.engine import topology\n",
    "import seaborn as sns"
   ]
  },
  {
   "cell_type": "markdown",
   "metadata": {},
   "source": [
    "# Data preparation"
   ]
  },
  {
   "cell_type": "code",
   "execution_count": 6,
   "metadata": {
    "collapsed": false
   },
   "outputs": [
    {
     "data": {
      "text/html": [
       "<div>\n",
       "<table border=\"1\" class=\"dataframe\">\n",
       "  <thead>\n",
       "    <tr style=\"text-align: right;\">\n",
       "      <th></th>\n",
       "      <th>species</th>\n",
       "      <th>mhc</th>\n",
       "      <th>peptide_length</th>\n",
       "      <th>cv</th>\n",
       "      <th>sequence</th>\n",
       "      <th>inequality</th>\n",
       "      <th>meas</th>\n",
       "      <th>log_meas</th>\n",
       "      <th>hotshot_encoded_peptides</th>\n",
       "      <th>index_encoded_peptides</th>\n",
       "      <th>affinity_label</th>\n",
       "    </tr>\n",
       "  </thead>\n",
       "  <tbody>\n",
       "    <tr>\n",
       "      <th>19307</th>\n",
       "      <td>human</td>\n",
       "      <td>HLA-A-0201</td>\n",
       "      <td>9</td>\n",
       "      <td>TBD</td>\n",
       "      <td>RMYGVLPWI</td>\n",
       "      <td>=</td>\n",
       "      <td>29.000000</td>\n",
       "      <td>0.688783</td>\n",
       "      <td>[0, 0, 0, 0, 0, 0, 0, 0, 0, 0, 0, 0, 0, 0, 1, ...</td>\n",
       "      <td>[15, 11, 20, 6, 18, 10, 13, 19, 8, 0, 0, 0, 0,...</td>\n",
       "      <td>4</td>\n",
       "    </tr>\n",
       "    <tr>\n",
       "      <th>20859</th>\n",
       "      <td>human</td>\n",
       "      <td>HLA-A-0201</td>\n",
       "      <td>9</td>\n",
       "      <td>TBD</td>\n",
       "      <td>WLWYIKIFI</td>\n",
       "      <td>=</td>\n",
       "      <td>141.000000</td>\n",
       "      <td>0.542619</td>\n",
       "      <td>[0, 0, 0, 0, 0, 0, 0, 0, 0, 0, 0, 0, 0, 0, 0, ...</td>\n",
       "      <td>[19, 10, 19, 20, 8, 9, 8, 5, 8, 0, 0, 0, 0, 0,...</td>\n",
       "      <td>3</td>\n",
       "    </tr>\n",
       "    <tr>\n",
       "      <th>47641</th>\n",
       "      <td>human</td>\n",
       "      <td>HLA-A-1101</td>\n",
       "      <td>10</td>\n",
       "      <td>TBD</td>\n",
       "      <td>TSFYLISIFL</td>\n",
       "      <td>&gt;</td>\n",
       "      <td>69767.441860</td>\n",
       "      <td>-0.030790</td>\n",
       "      <td>[0, 0, 0, 0, 0, 0, 0, 0, 0, 0, 0, 0, 0, 0, 0, ...</td>\n",
       "      <td>[17, 16, 5, 20, 10, 8, 16, 8, 5, 10, 0, 0, 0, ...</td>\n",
       "      <td>0</td>\n",
       "    </tr>\n",
       "    <tr>\n",
       "      <th>82048</th>\n",
       "      <td>human</td>\n",
       "      <td>HLA-A-6802</td>\n",
       "      <td>9</td>\n",
       "      <td>TBD</td>\n",
       "      <td>LLMALPHQA</td>\n",
       "      <td>=</td>\n",
       "      <td>9880.994830</td>\n",
       "      <td>0.149856</td>\n",
       "      <td>[0, 0, 0, 0, 0, 0, 0, 0, 0, 1, 0, 0, 0, 0, 0, ...</td>\n",
       "      <td>[10, 10, 11, 1, 10, 13, 7, 14, 1, 0, 0, 0, 0, ...</td>\n",
       "      <td>1</td>\n",
       "    </tr>\n",
       "    <tr>\n",
       "      <th>72473</th>\n",
       "      <td>human</td>\n",
       "      <td>HLA-A-3201</td>\n",
       "      <td>9</td>\n",
       "      <td>TBD</td>\n",
       "      <td>RTAFGGKYM</td>\n",
       "      <td>=</td>\n",
       "      <td>4959.546430</td>\n",
       "      <td>0.213563</td>\n",
       "      <td>[0, 0, 0, 0, 0, 0, 0, 0, 0, 0, 0, 0, 0, 0, 1, ...</td>\n",
       "      <td>[15, 17, 1, 5, 6, 6, 9, 20, 11, 0, 0, 0, 0, 0,...</td>\n",
       "      <td>2</td>\n",
       "    </tr>\n",
       "    <tr>\n",
       "      <th>40899</th>\n",
       "      <td>human</td>\n",
       "      <td>HLA-A-0301</td>\n",
       "      <td>10</td>\n",
       "      <td>TBD</td>\n",
       "      <td>LQDPRVRGLY</td>\n",
       "      <td>=</td>\n",
       "      <td>5547.767863</td>\n",
       "      <td>0.203204</td>\n",
       "      <td>[0, 0, 0, 0, 0, 0, 0, 0, 0, 1, 0, 0, 0, 0, 0, ...</td>\n",
       "      <td>[10, 14, 3, 13, 15, 18, 15, 6, 10, 20, 0, 0, 0...</td>\n",
       "      <td>1</td>\n",
       "    </tr>\n",
       "    <tr>\n",
       "      <th>129055</th>\n",
       "      <td>macaque</td>\n",
       "      <td>Mamu-A-11</td>\n",
       "      <td>9</td>\n",
       "      <td>TBD</td>\n",
       "      <td>QDNQWSYKI</td>\n",
       "      <td>=</td>\n",
       "      <td>135.622923</td>\n",
       "      <td>0.546213</td>\n",
       "      <td>[0, 0, 0, 0, 0, 0, 0, 0, 0, 0, 0, 0, 0, 1, 0, ...</td>\n",
       "      <td>[14, 3, 12, 14, 19, 16, 20, 9, 8, 0, 0, 0, 0, ...</td>\n",
       "      <td>3</td>\n",
       "    </tr>\n",
       "    <tr>\n",
       "      <th>81048</th>\n",
       "      <td>human</td>\n",
       "      <td>HLA-A-6802</td>\n",
       "      <td>9</td>\n",
       "      <td>TBD</td>\n",
       "      <td>FLITGVFDI</td>\n",
       "      <td>=</td>\n",
       "      <td>61.996851</td>\n",
       "      <td>0.618561</td>\n",
       "      <td>[0, 0, 0, 0, 1, 0, 0, 0, 0, 0, 0, 0, 0, 0, 0, ...</td>\n",
       "      <td>[5, 10, 8, 17, 6, 18, 5, 3, 8, 0, 0, 0, 0, 0, ...</td>\n",
       "      <td>3</td>\n",
       "    </tr>\n",
       "    <tr>\n",
       "      <th>130084</th>\n",
       "      <td>macaque</td>\n",
       "      <td>Mamu-B-01</td>\n",
       "      <td>11</td>\n",
       "      <td>TBD</td>\n",
       "      <td>RQAPGKGLEWV</td>\n",
       "      <td>&gt;</td>\n",
       "      <td>64285.714286</td>\n",
       "      <td>-0.023227</td>\n",
       "      <td>[0, 0, 0, 0, 0, 0, 0, 0, 0, 0, 0, 0, 0, 0, 1, ...</td>\n",
       "      <td>[15, 14, 1, 13, 6, 9, 6, 10, 4, 19, 18, 0, 0, ...</td>\n",
       "      <td>0</td>\n",
       "    </tr>\n",
       "    <tr>\n",
       "      <th>111327</th>\n",
       "      <td>human</td>\n",
       "      <td>HLA-B-4402</td>\n",
       "      <td>9</td>\n",
       "      <td>TBD</td>\n",
       "      <td>GHMMVIFRL</td>\n",
       "      <td>&gt;</td>\n",
       "      <td>20000.000000</td>\n",
       "      <td>0.084687</td>\n",
       "      <td>[0, 0, 0, 0, 0, 1, 0, 0, 0, 0, 0, 0, 0, 0, 0, ...</td>\n",
       "      <td>[6, 7, 11, 11, 18, 8, 5, 15, 10, 0, 0, 0, 0, 0...</td>\n",
       "      <td>1</td>\n",
       "    </tr>\n",
       "  </tbody>\n",
       "</table>\n",
       "</div>"
      ],
      "text/plain": [
       "        species         mhc  peptide_length   cv     sequence inequality  \\\n",
       "19307     human  HLA-A-0201               9  TBD    RMYGVLPWI          =   \n",
       "20859     human  HLA-A-0201               9  TBD    WLWYIKIFI          =   \n",
       "47641     human  HLA-A-1101              10  TBD   TSFYLISIFL          >   \n",
       "82048     human  HLA-A-6802               9  TBD    LLMALPHQA          =   \n",
       "72473     human  HLA-A-3201               9  TBD    RTAFGGKYM          =   \n",
       "40899     human  HLA-A-0301              10  TBD   LQDPRVRGLY          =   \n",
       "129055  macaque   Mamu-A-11               9  TBD    QDNQWSYKI          =   \n",
       "81048     human  HLA-A-6802               9  TBD    FLITGVFDI          =   \n",
       "130084  macaque   Mamu-B-01              11  TBD  RQAPGKGLEWV          >   \n",
       "111327    human  HLA-B-4402               9  TBD    GHMMVIFRL          >   \n",
       "\n",
       "                meas  log_meas  \\\n",
       "19307      29.000000  0.688783   \n",
       "20859     141.000000  0.542619   \n",
       "47641   69767.441860 -0.030790   \n",
       "82048    9880.994830  0.149856   \n",
       "72473    4959.546430  0.213563   \n",
       "40899    5547.767863  0.203204   \n",
       "129055    135.622923  0.546213   \n",
       "81048      61.996851  0.618561   \n",
       "130084  64285.714286 -0.023227   \n",
       "111327  20000.000000  0.084687   \n",
       "\n",
       "                                 hotshot_encoded_peptides  \\\n",
       "19307   [0, 0, 0, 0, 0, 0, 0, 0, 0, 0, 0, 0, 0, 0, 1, ...   \n",
       "20859   [0, 0, 0, 0, 0, 0, 0, 0, 0, 0, 0, 0, 0, 0, 0, ...   \n",
       "47641   [0, 0, 0, 0, 0, 0, 0, 0, 0, 0, 0, 0, 0, 0, 0, ...   \n",
       "82048   [0, 0, 0, 0, 0, 0, 0, 0, 0, 1, 0, 0, 0, 0, 0, ...   \n",
       "72473   [0, 0, 0, 0, 0, 0, 0, 0, 0, 0, 0, 0, 0, 0, 1, ...   \n",
       "40899   [0, 0, 0, 0, 0, 0, 0, 0, 0, 1, 0, 0, 0, 0, 0, ...   \n",
       "129055  [0, 0, 0, 0, 0, 0, 0, 0, 0, 0, 0, 0, 0, 1, 0, ...   \n",
       "81048   [0, 0, 0, 0, 1, 0, 0, 0, 0, 0, 0, 0, 0, 0, 0, ...   \n",
       "130084  [0, 0, 0, 0, 0, 0, 0, 0, 0, 0, 0, 0, 0, 0, 1, ...   \n",
       "111327  [0, 0, 0, 0, 0, 1, 0, 0, 0, 0, 0, 0, 0, 0, 0, ...   \n",
       "\n",
       "                                   index_encoded_peptides  affinity_label  \n",
       "19307   [15, 11, 20, 6, 18, 10, 13, 19, 8, 0, 0, 0, 0,...               4  \n",
       "20859   [19, 10, 19, 20, 8, 9, 8, 5, 8, 0, 0, 0, 0, 0,...               3  \n",
       "47641   [17, 16, 5, 20, 10, 8, 16, 8, 5, 10, 0, 0, 0, ...               0  \n",
       "82048   [10, 10, 11, 1, 10, 13, 7, 14, 1, 0, 0, 0, 0, ...               1  \n",
       "72473   [15, 17, 1, 5, 6, 6, 9, 20, 11, 0, 0, 0, 0, 0,...               2  \n",
       "40899   [10, 14, 3, 13, 15, 18, 15, 6, 10, 20, 0, 0, 0...               1  \n",
       "129055  [14, 3, 12, 14, 19, 16, 20, 9, 8, 0, 0, 0, 0, ...               3  \n",
       "81048   [5, 10, 8, 17, 6, 18, 5, 3, 8, 0, 0, 0, 0, 0, ...               3  \n",
       "130084  [15, 14, 1, 13, 6, 9, 6, 10, 4, 19, 18, 0, 0, ...               0  \n",
       "111327  [6, 7, 11, 11, 18, 8, 5, 15, 10, 0, 0, 0, 0, 0...               1  "
      ]
     },
     "execution_count": 6,
     "metadata": {},
     "output_type": "execute_result"
    }
   ],
   "source": [
    "df = pd.read_table(\"bdata.2009.mhci.public.1.txt\")\n",
    "\n",
    "df['log_meas']=1-np.log(df['meas'])/math.log(50000)\n",
    "df['peptide_length'] = df['sequence'].str.len()\n",
    "\n",
    "\n",
    "max_len=df['sequence'].str.len().max()\n",
    "n_peptides = df['sequence'].count()\n",
    "\n",
    "def amino_acid_hotshot_encoding(s):\n",
    "    return common_amino_acids.hotshot_encoding([s],len(s)).flatten().astype(int)\n",
    "df['hotshot_encoded_peptides'] = df.sequence.apply(lambda seq: amino_acid_hotshot_encoding(seq))\n",
    "\n",
    "def amino_acid_index_encoding(s, maxlen):\n",
    "    a = 1+common_amino_acids.index_encoding([s],len(s)).flatten()\n",
    "    return np.concatenate([a, np.zeros(maxlen-len(a),dtype=int)])\n",
    "df['index_encoded_peptides'] = df.sequence.apply(lambda seq: amino_acid_index_encoding(seq, max_len))\n",
    "\n",
    "def measured_affinity_less_than(Y,k):\n",
    "    IC50 = 50000**(1-Y)\n",
    "    return (IC50 < k).astype(int) \n",
    "\n",
    "def affinity_label(Y):\n",
    "    return measured_affinity_less_than(Y,50) + measured_affinity_less_than(Y,500) + measured_affinity_less_than(Y,5000) + measured_affinity_less_than(Y,50000)\n",
    "\n",
    "df['affinity_label'] = affinity_label(df['log_meas'])\n",
    "df = df.reindex(np.random.permutation(df.index))\n",
    "df.head(10)"
   ]
  },
  {
   "cell_type": "code",
   "execution_count": 7,
   "metadata": {
    "collapsed": false
   },
   "outputs": [
    {
     "data": {
      "text/plain": [
       "mhc\n",
       "HLA-A-0201    9565\n",
       "HLA-A-0301    6141\n",
       "HLA-A-0203    5542\n",
       "HLA-A-1101    5399\n",
       "HLA-A-0206    4827\n",
       "HLA-A-3101    4796\n",
       "HLA-A-6802    4768\n",
       "HLA-A-0202    3919\n",
       "HLA-A-0101    3725\n",
       "HLA-B-0702    3412\n",
       "H-2-Kb        3407\n",
       "dtype: int64"
      ]
     },
     "execution_count": 7,
     "metadata": {},
     "output_type": "execute_result"
    }
   ],
   "source": [
    "df.groupby('mhc').size().nlargest(11)"
   ]
  },
  {
   "cell_type": "markdown",
   "metadata": {},
   "source": [
    "## Only 9 mers"
   ]
  },
  {
   "cell_type": "code",
   "execution_count": 8,
   "metadata": {
    "collapsed": false
   },
   "outputs": [
    {
     "data": {
      "text/plain": [
       "mhc\n",
       "HLA-A-0201    6961\n",
       "HLA-A-0301    4601\n",
       "HLA-A-0203    3937\n",
       "HLA-A-1101    3862\n",
       "HLA-A-3101    3309\n",
       "HLA-A-0206    3223\n",
       "HLA-A-6802    3188\n",
       "HLA-A-0101    3169\n",
       "HLA-B-1501    3142\n",
       "HLA-B-0702    2974\n",
       "HLA-B-5801    2444\n",
       "dtype: int64"
      ]
     },
     "execution_count": 8,
     "metadata": {},
     "output_type": "execute_result"
    }
   ],
   "source": [
    "df_9 = df[df['peptide_length']==9]\n",
    "df_9.groupby('mhc').size().nlargest(11)"
   ]
  },
  {
   "cell_type": "markdown",
   "metadata": {},
   "source": [
    "## HLA-A-0201"
   ]
  },
  {
   "cell_type": "code",
   "execution_count": 10,
   "metadata": {
    "collapsed": true
   },
   "outputs": [],
   "source": [
    "df_h = df_9[df_9['mhc']=='HLA-A-0201'][['hotshot_encoded_peptides','index_encoded_peptides','log_meas']]"
   ]
  },
  {
   "cell_type": "code",
   "execution_count": 18,
   "metadata": {
    "collapsed": false
   },
   "outputs": [
    {
     "data": {
      "text/plain": [
       "6961"
      ]
     },
     "execution_count": 18,
     "metadata": {},
     "output_type": "execute_result"
    }
   ],
   "source": [
    "len(X)"
   ]
  },
  {
   "cell_type": "code",
   "execution_count": 29,
   "metadata": {
    "collapsed": false
   },
   "outputs": [
    {
     "name": "stdout",
     "output_type": "stream",
     "text": [
      "0.984547507178 0.959550101958 0.965096496801 16\n",
      "0.985918550659 0.952630449299 0.961819135744 14\n",
      "0.986322316762 0.946593296409 0.952511459129 17\n",
      "0.986175162295 0.942033517953 0.950787815126 11\n",
      "0.98255003048 0.944671596138 0.953507757091 11\n",
      "0.987073233216 0.952704551565 0.961629702598 10\n",
      "0.987128324341 0.954891252504 0.9608580559 18\n",
      "0.984945643094 0.940944900688 0.954392666157 12\n",
      "0.989472899115 0.942129010695 0.949742169595 9\n",
      "0.985743306789 0.942041586724 0.951831066208 13\n",
      "test score with best parameters using cv is: 0.957\n",
      "with parameters: {'hidden': 50, 'dropout': 0.25}\n"
     ]
    }
   ],
   "source": [
    "batch_size = 16\n",
    "epoch = 0\n",
    "n_epochs = 30 \n",
    "X = np.array(list(df_h['hotshot_encoded_peptides']))\n",
    "X = X.reshape((len(X),9,20))\n",
    "y = np.array(list(df_h['log_meas']))\n",
    "labels = affinity_label(y)\n",
    "best_score = 0\n",
    "for hidden in [50,60]:\n",
    "    for dropout_probability in [0.25]:\n",
    "        peak_score = []\n",
    "        for train_idx, test_idx in StratifiedKFold(labels, n_folds = 5):\n",
    "            train_aucs = []\n",
    "            test_aucs = []\n",
    "\n",
    "            sequence = Input( shape= (9, 20),dtype='float32')\n",
    "            #embedded = Embedding(21, 100)(sequence)\n",
    "            forwards = LSTM(hidden)(sequence)\n",
    "            backwards = LSTM(hidden, go_backwards=True)(sequence)\n",
    "\n",
    "            merged = merge([forwards, backwards], mode = 'concat', concat_axis=-1)\n",
    "            after_dp = Dropout(dropout_probability)(merged)\n",
    "            output = Dense(1, activation = 'sigmoid')(after_dp)\n",
    "            model = Model(input = sequence, output = output)\n",
    "\n",
    "\n",
    "            #Compile the model\n",
    "            model.compile(optimizer = 'adam', loss='mean_squared_error')\n",
    "            for epoch in range(n_epochs):\n",
    "                for batch_idx in range(len(X[train_idx]) // batch_size):   \n",
    "                    model.train_on_batch(X[train_idx][batch_idx * batch_size:(batch_idx + 1) * batch_size], y[train_idx][batch_idx * batch_size:(batch_idx + 1) * batch_size])\n",
    "                train_pred = model.predict(X[train_idx])\n",
    "                test_pred = model.predict(X[test_idx])\n",
    "                train_aucs.append(roc_auc_score(measured_affinity_less_than(y[train_idx],500),train_pred))\n",
    "                test_aucs.append(roc_auc_score(measured_affinity_less_than(y[test_idx],500),test_pred))\n",
    "            peak_score.append(max(test_aucs))\n",
    "    \n",
    "            print(roc_auc_score(measured_affinity_less_than(y[train_idx],500),train_pred), roc_auc_score(measured_affinity_less_than(y[test_idx],500),test_pred), max(test_aucs), pd.Series(test_aucs).argmax())\n",
    "        score = np.array(peak_score).mean()\n",
    "        if score > best_score:\n",
    "            best_score = score\n",
    "            best_parameters = {'hidden': hidden ,'dropout':dropout_probability}\n",
    "print(\"test score with best parameters using cv is: %.3f\" %best_score)\n",
    "print(\"with parameters:\" , best_parameters)            "
   ]
  },
  {
   "cell_type": "code",
   "execution_count": null,
   "metadata": {
    "collapsed": true
   },
   "outputs": [],
   "source": []
  }
 ],
 "metadata": {
  "anaconda-cloud": {},
  "kernelspec": {
   "display_name": "Python [Root]",
   "language": "python",
   "name": "Python [Root]"
  },
  "language_info": {
   "codemirror_mode": {
    "name": "ipython",
    "version": 3
   },
   "file_extension": ".py",
   "mimetype": "text/x-python",
   "name": "python",
   "nbconvert_exporter": "python",
   "pygments_lexer": "ipython3",
   "version": "3.5.1"
  }
 },
 "nbformat": 4,
 "nbformat_minor": 0
}
